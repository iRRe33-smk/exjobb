{
 "cells": [
  {
   "cell_type": "code",
   "execution_count": 1,
   "metadata": {},
   "outputs": [
    {
     "name": "stdout",
     "output_type": "stream",
     "text": [
      "CPython\n",
      "3.10.9 (tags/v3.10.9:1dd9be6, Dec  6 2022, 20:01:21) [MSC v.1934 64 bit (AMD64)]\n"
     ]
    }
   ],
   "source": [
    "import platform, sys    \n",
    "print(platform.python_implementation()) #python interpreter\n",
    "print(sys.version) #python version"
   ]
  },
  {
   "cell_type": "code",
   "execution_count": 2,
   "metadata": {},
   "outputs": [],
   "source": [
    "import numpy as np\n",
    "from scipy.stats import norm"
   ]
  },
  {
   "attachments": {},
   "cell_type": "markdown",
   "metadata": {},
   "source": [
    "# The basic salvo combat model\n",
    "as per: Michael J Armstrong (2014) The salvo combat model with a sequential\n",
    "exchange of fire, Journal of the Operational Research Society, 65:10, 1593-1601, DOI: 10.1057/\n",
    "jors.2013.115\n"
   ]
  },
  {
   "cell_type": "code",
   "execution_count": 3,
   "metadata": {},
   "outputs": [],
   "source": [
    "# battle model parameters\n",
    "class PlayerState():\n",
    "    def __init__(self, N, offPower, defPower, stayPower):\n",
    "        self.N = N  # number of units\n",
    "        # number of missiles (accurately) fired per unit per salvo\n",
    "        self.offPower = offPower\n",
    "        self.defPower = defPower  # number of missiles intercepted per unit per salvo\n",
    "        # staying power, how many hits a unit can take from opponent.\n",
    "        self.stayPower = stayPower\n",
    "        return (None)\n",
    "\n",
    "\n",
    "class Game():\n",
    "    def __init__(self, red: PlayerState, blue: PlayerState):\n",
    "        self.red = red\n",
    "        self.blue = blue\n",
    "        return (None)\n",
    "\n",
    "    def battle(self):\n",
    "\n",
    "        # helper function to get lost number of units each round of battle.\n",
    "\n",
    "        def get_delta_N(P1: PlayerState, P2: PlayerState):\n",
    "            deltaP1 = (P2.offPower*P2.N - P1.defPower*P1.N)*(1/P1.stayPower)\n",
    "            deltaP1 = max(0, min(deltaP1, P1.N))\n",
    "            return (deltaP1)\n",
    "\n",
    "        # loop while both players still have units\n",
    "        it = 0\n",
    "        while (self.red.N > 0 and self.blue.N > 0 and it < 50):\n",
    "            \n",
    "\n",
    "            red_delta_N = get_delta_N(self.red, self.blue)\n",
    "            blue_delta_N = get_delta_N(self.blue, self.red)\n",
    "               \n",
    "            self.red.N = self.red.N - red_delta_N         \n",
    "            self.blue.N = self.blue.N - blue_delta_N\n",
    "            it +=1  \n",
    "            print(f\"Nred :{self.red.N}, Nblue : {self.blue.N} \")\n",
    "            \n",
    "        return (self)\n"
   ]
  },
  {
   "cell_type": "code",
   "execution_count": 12,
   "metadata": {},
   "outputs": [
    {
     "name": "stdout",
     "output_type": "stream",
     "text": [
      "Nred :4.4, Nblue : 1.0 \n",
      "Nred :4.4, Nblue : 0.0 \n"
     ]
    }
   ],
   "source": [
    "blue_player = PlayerState(N=6, offPower=4, defPower=2, stayPower=5)\n",
    "red_player = PlayerState(N=4, offPower=5, defPower=3, stayPower=4)\n",
    "\n",
    "game = Game(blue_player, red_player)\n",
    "game = game.battle()\n"
   ]
  },
  {
   "cell_type": "code",
   "execution_count": null,
   "metadata": {},
   "outputs": [],
   "source": []
  },
  {
   "attachments": {},
   "cell_type": "markdown",
   "metadata": {},
   "source": [
    "# Sequential Stochastic salvo combat model \n",
    "as per: Michael J Armstrong (2014) The salvo combat model with a sequential\n",
    "exchange of fire, Journal of the Operational Research Society, 65:10, 1593-1601, DOI: 10.1057/\n",
    "jors.2013.115\n"
   ]
  },
  {
   "cell_type": "code",
   "execution_count": 16,
   "metadata": {},
   "outputs": [],
   "source": [
    "# battle model parameters\n",
    "class PlayerState():\n",
    "    def __init__(self, N=5, offNumber=8, offProb=2/3, offDamage=1/3,  defNumber=4, defProb=1/4, stayPower=3):\n",
    "        self.N = N  # number of units\n",
    "        self.offNumber = offNumber\n",
    "        self.offProb = offProb\n",
    "        self.offDamage = offDamage\n",
    "\n",
    "        self.defNumber = defNumber\n",
    "        self.defProb = defProb\n",
    "        self.stayPower = stayPower\n",
    "        \n",
    "        return (None)\n",
    "\n",
    "\n",
    "class Game():\n",
    "    def __init__(self, red: PlayerState, blue: PlayerState):\n",
    "        self.red = red\n",
    "        self.blue = blue\n",
    "        return (None)\n",
    "\n",
    "    def battle(self):\n",
    "\n",
    "        # helper function to get lost number of units each round of battle.\n",
    "        # P2 attacking P1\n",
    "        def getPlayerN(P1: PlayerState, P2: PlayerState):\n",
    "\n",
    "            mu_p2_off = P2.N*P2.offNumber*P2.offProb\n",
    "            var_p2_off = P2.N * P2.offNumber * P2.offProb*(1-P2.offProb)\n",
    "\n",
    "            mu_p1_def = P1.N*P1.defNumber*P1.defProb\n",
    "            var_p1_def = P1.N * P1.defNumber*P1.defProb*(1-P1.defProb)\n",
    "\n",
    "            # draw from normal distribution\n",
    "            netOffHits = np.random.normal( \n",
    "                loc=(P2.N*mu_p2_off-P1.N*mu_p1_def),\n",
    "                scale=np.sqrt((P2.N*var_p2_off + P1.N*var_p1_def))\n",
    "            )\n",
    "            varDamage = 1/(2.5*P2.offDamage)\n",
    "            \n",
    "            mu_P1_N = P1.N -(mu_p2_off - mu_p1_def)*P2.offDamage\n",
    "            var_P1_N =  (mu_p2_off - mu_p1_def)*varDamage + (var_p2_off + var_p1_def)*P2.offDamage**2 \\\n",
    "                # - 2*varDamage*(mu_p2_off - mu_p1_def)*norm.cdf(0,loc=mu_P1_N, scale=var_P1_N) \\\n",
    "                # + 2*varDamage*(var_p2_off + var_p1_def)*norm.pdf(0,loc=mu_P1_N, scale=var_P1_N)\n",
    "            \n",
    "            \n",
    "            return (max(0,norm.rvs(loc=mu_P1_N, scale=np.sqrt(var_P1_N), size=1)))\n",
    "\n",
    "        # loop while both players still have units\n",
    "        it = 0\n",
    "        while (self.red.N > 0 and self.blue.N > 0 and it < 50):\n",
    "\n",
    "            #simultaneous attack\n",
    "            red_new_N = getPlayerN(self.red, self.blue)\n",
    "            blue_new_N = getPlayerN(self.blue, self.red)\n",
    "\n",
    "            self.red.N = red_new_N\n",
    "            self.blue.N = blue_new_N\n",
    "            it += 1\n",
    "            print(f\"Nred :{self.red.N}, Nblue : {self.blue.N} \")\n",
    "\n",
    "        return (self)\n"
   ]
  },
  {
   "cell_type": "code",
   "execution_count": 18,
   "metadata": {},
   "outputs": [
    {
     "name": "stdout",
     "output_type": "stream",
     "text": [
      "Nred :[2.23890853], Nblue : [19.50832798] \n"
     ]
    },
    {
     "name": "stderr",
     "output_type": "stream",
     "text": [
      "C:\\Users\\IsakG\\AppData\\Local\\Temp\\ipykernel_22588\\1746868981.py:47: RuntimeWarning: invalid value encountered in sqrt\n",
      "  return (max(0,norm.rvs(loc=mu_P1_N, scale=np.sqrt(var_P1_N), size=1)))\n"
     ]
    },
    {
     "ename": "ValueError",
     "evalue": "Domain error in arguments. The `scale` parameter must be positive for all distributions, and many distributions have restrictions on shape parameters. Please see the `scipy.stats.norm` documentation for details.",
     "output_type": "error",
     "traceback": [
      "\u001b[1;31m---------------------------------------------------------------------------\u001b[0m",
      "\u001b[1;31mValueError\u001b[0m                                Traceback (most recent call last)",
      "Cell \u001b[1;32mIn[18], line 6\u001b[0m\n\u001b[0;32m      4\u001b[0m \u001b[39mfor\u001b[39;00m _ \u001b[39min\u001b[39;00m \u001b[39mrange\u001b[39m(\u001b[39m100\u001b[39m):\n\u001b[0;32m      5\u001b[0m     game \u001b[39m=\u001b[39m Game(blue_player, red_player)\n\u001b[1;32m----> 6\u001b[0m     game \u001b[39m=\u001b[39m game\u001b[39m.\u001b[39;49mbattle()\n",
      "Cell \u001b[1;32mIn[16], line 55\u001b[0m, in \u001b[0;36mGame.battle\u001b[1;34m(self)\u001b[0m\n\u001b[0;32m     51\u001b[0m \u001b[39mwhile\u001b[39;00m (\u001b[39mself\u001b[39m\u001b[39m.\u001b[39mred\u001b[39m.\u001b[39mN \u001b[39m>\u001b[39m \u001b[39m0\u001b[39m \u001b[39mand\u001b[39;00m \u001b[39mself\u001b[39m\u001b[39m.\u001b[39mblue\u001b[39m.\u001b[39mN \u001b[39m>\u001b[39m \u001b[39m0\u001b[39m \u001b[39mand\u001b[39;00m it \u001b[39m<\u001b[39m \u001b[39m50\u001b[39m):\n\u001b[0;32m     52\u001b[0m \n\u001b[0;32m     53\u001b[0m     \u001b[39m#simultaneous attack\u001b[39;00m\n\u001b[0;32m     54\u001b[0m     red_new_N \u001b[39m=\u001b[39m getPlayerN(\u001b[39mself\u001b[39m\u001b[39m.\u001b[39mred, \u001b[39mself\u001b[39m\u001b[39m.\u001b[39mblue)\n\u001b[1;32m---> 55\u001b[0m     blue_new_N \u001b[39m=\u001b[39m getPlayerN(\u001b[39mself\u001b[39;49m\u001b[39m.\u001b[39;49mblue, \u001b[39mself\u001b[39;49m\u001b[39m.\u001b[39;49mred)\n\u001b[0;32m     57\u001b[0m     \u001b[39mself\u001b[39m\u001b[39m.\u001b[39mred\u001b[39m.\u001b[39mN \u001b[39m=\u001b[39m red_new_N\n\u001b[0;32m     58\u001b[0m     \u001b[39mself\u001b[39m\u001b[39m.\u001b[39mblue\u001b[39m.\u001b[39mN \u001b[39m=\u001b[39m blue_new_N\n",
      "Cell \u001b[1;32mIn[16], line 47\u001b[0m, in \u001b[0;36mGame.battle.<locals>.getPlayerN\u001b[1;34m(P1, P2)\u001b[0m\n\u001b[0;32m     42\u001b[0m var_P1_N \u001b[39m=\u001b[39m  (mu_p2_off \u001b[39m-\u001b[39m mu_p1_def)\u001b[39m*\u001b[39mvarDamage \u001b[39m+\u001b[39m (var_p2_off \u001b[39m+\u001b[39m var_p1_def)\u001b[39m*\u001b[39mP2\u001b[39m.\u001b[39moffDamage\u001b[39m*\u001b[39m\u001b[39m*\u001b[39m\u001b[39m2\u001b[39m \\\n\u001b[0;32m     43\u001b[0m     \u001b[39m# - 2*varDamage*(mu_p2_off - mu_p1_def)*norm.cdf(0,loc=mu_P1_N, scale=var_P1_N) \\\u001b[39;00m\n\u001b[0;32m     44\u001b[0m     \u001b[39m# + 2*varDamage*(var_p2_off + var_p1_def)*norm.pdf(0,loc=mu_P1_N, scale=var_P1_N)\u001b[39;00m\n\u001b[1;32m---> 47\u001b[0m \u001b[39mreturn\u001b[39;00m (\u001b[39mmax\u001b[39m(\u001b[39m0\u001b[39m,norm\u001b[39m.\u001b[39;49mrvs(loc\u001b[39m=\u001b[39;49mmu_P1_N, scale\u001b[39m=\u001b[39;49mnp\u001b[39m.\u001b[39;49msqrt(var_P1_N), size\u001b[39m=\u001b[39;49m\u001b[39m1\u001b[39;49m)))\n",
      "File \u001b[1;32mc:\\Users\\IsakG\\projects\\exjobb\\exjobbvenv\\lib\\site-packages\\scipy\\stats\\_distn_infrastructure.py:1036\u001b[0m, in \u001b[0;36mrv_generic.rvs\u001b[1;34m(self, *args, **kwds)\u001b[0m\n\u001b[0;32m   1030\u001b[0m \u001b[39mif\u001b[39;00m \u001b[39mnot\u001b[39;00m np\u001b[39m.\u001b[39mall(cond):\n\u001b[0;32m   1031\u001b[0m     message \u001b[39m=\u001b[39m (\u001b[39m\"\u001b[39m\u001b[39mDomain error in arguments. The `scale` parameter must \u001b[39m\u001b[39m\"\u001b[39m\n\u001b[0;32m   1032\u001b[0m                \u001b[39m\"\u001b[39m\u001b[39mbe positive for all distributions, and many \u001b[39m\u001b[39m\"\u001b[39m\n\u001b[0;32m   1033\u001b[0m                \u001b[39m\"\u001b[39m\u001b[39mdistributions have restrictions on shape parameters. \u001b[39m\u001b[39m\"\u001b[39m\n\u001b[0;32m   1034\u001b[0m                \u001b[39mf\u001b[39m\u001b[39m\"\u001b[39m\u001b[39mPlease see the `scipy.stats.\u001b[39m\u001b[39m{\u001b[39;00m\u001b[39mself\u001b[39m\u001b[39m.\u001b[39mname\u001b[39m}\u001b[39;00m\u001b[39m` \u001b[39m\u001b[39m\"\u001b[39m\n\u001b[0;32m   1035\u001b[0m                \u001b[39m\"\u001b[39m\u001b[39mdocumentation for details.\u001b[39m\u001b[39m\"\u001b[39m)\n\u001b[1;32m-> 1036\u001b[0m     \u001b[39mraise\u001b[39;00m \u001b[39mValueError\u001b[39;00m(message)\n\u001b[0;32m   1038\u001b[0m \u001b[39mif\u001b[39;00m np\u001b[39m.\u001b[39mall(scale \u001b[39m==\u001b[39m \u001b[39m0\u001b[39m):\n\u001b[0;32m   1039\u001b[0m     \u001b[39mreturn\u001b[39;00m loc\u001b[39m*\u001b[39mones(size, \u001b[39m'\u001b[39m\u001b[39md\u001b[39m\u001b[39m'\u001b[39m)\n",
      "\u001b[1;31mValueError\u001b[0m: Domain error in arguments. The `scale` parameter must be positive for all distributions, and many distributions have restrictions on shape parameters. Please see the `scipy.stats.norm` documentation for details."
     ]
    }
   ],
   "source": [
    "blue_player = PlayerState(N=15,defNumber=8)\n",
    "red_player = PlayerState(N=15, defNumber=8)\n",
    "\n",
    "for _ in range(100):\n",
    "    game = Game(blue_player, red_player)\n",
    "    game = game.battle()\n"
   ]
  }
 ],
 "metadata": {
  "kernelspec": {
   "display_name": "exjobbvenv",
   "language": "python",
   "name": "python3"
  },
  "language_info": {
   "codemirror_mode": {
    "name": "ipython",
    "version": 3
   },
   "file_extension": ".py",
   "mimetype": "text/x-python",
   "name": "python",
   "nbconvert_exporter": "python",
   "pygments_lexer": "ipython3",
   "version": "3.10.9"
  },
  "orig_nbformat": 4,
  "vscode": {
   "interpreter": {
    "hash": "75b064b9105eb83819de4ca431f4d7ca9eea8713432f12953594430fb1c7ebb3"
   }
  }
 },
 "nbformat": 4,
 "nbformat_minor": 2
}
