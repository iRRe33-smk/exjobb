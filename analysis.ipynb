{
 "cells": [
  {
   "cell_type": "code",
   "execution_count": 14,
   "metadata": {},
   "outputs": [],
   "source": [
    "import pickle as pkl\n",
    "import numpy as np\n",
    "import pandas as pd\n",
    "import json\n"
   ]
  },
  {
   "cell_type": "code",
   "execution_count": 15,
   "metadata": {},
   "outputs": [
    {
     "name": "stdout",
     "output_type": "stream",
     "text": [
      "    Node_id  Parent_id  Time  \\\n",
      "0         0        NaN     0   \n",
      "1         1        0.0     1   \n",
      "2         2        0.0     1   \n",
      "3         3        0.0     1   \n",
      "4         4        3.0     2   \n",
      "5         5        3.0     2   \n",
      "6         6        2.0     2   \n",
      "7         7        2.0     2   \n",
      "8         8        2.0     2   \n",
      "9         9        1.0     2   \n",
      "10       10        1.0     2   \n",
      "11       11        1.0     2   \n",
      "\n",
      "                                                State  \\\n",
      "0   [[9.457047720301368e-308, 7.565923378692234e-3...   \n",
      "1   [[4.000000500510459, 4.000365294416994], [5.09...   \n",
      "2   [[-8.206176053115048e+41, -1.9059439612092787e...   \n",
      "3   [[4.77233188576065e-05, 1.657678330957424e-05]...   \n",
      "4   [[4.089584054851457, 4.00117177378101], [24.99...   \n",
      "5   [[4.000005479904075, 4.000580640758329], [24.8...   \n",
      "6   [[4.00000164685531, 4.000001754559818], [5.093...   \n",
      "7   [[4.000000500510459, 4.000365294416994], [5.09...   \n",
      "8   [[4.000001447105092, 4.006145479291305], [5.09...   \n",
      "9   [[5.118775854944943, 4.0005386131269915], [27....   \n",
      "10  [[5.118816534544749, 4.000497065468153], [2.22...   \n",
      "11  [[19.036672711372375, 4.000491818600949], [2.2...   \n",
      "\n",
      "                                               Action  Reward  \n",
      "0                                                None       0  \n",
      "1   [2.7145023, -1.04195, 1.9280694, -1.6806135, -...       0  \n",
      "2   [0.45223475, 15.548944, 3.117417, -2.463195, -...       0  \n",
      "3   [0.52265334, 13.550019, 0.7910352, 0.8227477, ...       0  \n",
      "4   [0.6086171, 0.384651, 7.1226726, 0.8139954, -0...       0  \n",
      "5   [-4.4478474, 6.6374164, 10.468822, 7.991503, 2...       0  \n",
      "6   [0.44966403, -2.6188805, 0.29129672, -2.380463...       0  \n",
      "7   [-3.411912, -3.4130108, -3.338205, -1.4915301,...       0  \n",
      "8   [0.67394984, -3.3520942, 0.7787864, -4.2489476...       0  \n",
      "9   [-3.2180462, 12.172471, 3.424215, -1.1942184, ...       0  \n",
      "10  [-1.5238605, -1.6898373, 10.589041, -0.4749928...       0  \n",
      "11  [8.385932, -4.3054132, -3.6398315, -3.379082, ...       0  \n"
     ]
    }
   ],
   "source": [
    "df = pd.read_pickle(\"saved_runs/FullRun.pkl--2023.04.21_09.38\")\n",
    "print(df)"
   ]
  },
  {
   "cell_type": "code",
   "execution_count": 23,
   "metadata": {},
   "outputs": [],
   "source": [
    "# dat = {\"df\": df.to_dict(), \"params\" : {\"hej\" : \"tja\"}}\n",
    "import os\n",
    "path = \"saved_runs/testSave-fredag\"\n",
    "if not os.path.exists(path):\n",
    "    os.mkdir(path)\n",
    "# with open(\"testSave/testSaveDF.pkl\", \"w+\") as f:\n",
    "df.to_pickle(f\"{path}/testSaveDF.pkl\")\n",
    "    # pkl.dump(obj = df, file = f)\n",
    "with open(f\"{path}/params.json\", \"w+\") as f:\n",
    "    json.dump({\"num\" : 12, \"maax\" : 100}, f)"
   ]
  },
  {
   "cell_type": "code",
   "execution_count": 25,
   "metadata": {},
   "outputs": [
    {
     "data": {
      "text/html": [
       "<div>\n",
       "<style scoped>\n",
       "    .dataframe tbody tr th:only-of-type {\n",
       "        vertical-align: middle;\n",
       "    }\n",
       "\n",
       "    .dataframe tbody tr th {\n",
       "        vertical-align: top;\n",
       "    }\n",
       "\n",
       "    .dataframe thead th {\n",
       "        text-align: right;\n",
       "    }\n",
       "</style>\n",
       "<table border=\"1\" class=\"dataframe\">\n",
       "  <thead>\n",
       "    <tr style=\"text-align: right;\">\n",
       "      <th></th>\n",
       "      <th>Node_id</th>\n",
       "      <th>Parent_id</th>\n",
       "      <th>Time</th>\n",
       "      <th>State</th>\n",
       "      <th>Action</th>\n",
       "      <th>Reward</th>\n",
       "    </tr>\n",
       "  </thead>\n",
       "  <tbody>\n",
       "    <tr>\n",
       "      <th>0</th>\n",
       "      <td>0</td>\n",
       "      <td>NaN</td>\n",
       "      <td>0</td>\n",
       "      <td>[[3383.8549814207113, 189297055.7911309], [0.0...</td>\n",
       "      <td>None</td>\n",
       "      <td>0</td>\n",
       "    </tr>\n",
       "    <tr>\n",
       "      <th>1</th>\n",
       "      <td>1</td>\n",
       "      <td>0.0</td>\n",
       "      <td>1</td>\n",
       "      <td>[[4.000000420040578, 4.000023307007723], [2.00...</td>\n",
       "      <td>[-2.4991019, 5.326136, 0.30989826, 1.2112126, ...</td>\n",
       "      <td>0</td>\n",
       "    </tr>\n",
       "    <tr>\n",
       "      <th>2</th>\n",
       "      <td>2</td>\n",
       "      <td>0.0</td>\n",
       "      <td>1</td>\n",
       "      <td>[[4.000000034801811, 4.000000000004407], [32.2...</td>\n",
       "      <td>[1.1645236, 20.820745, 10.028704, 0.5986221, -...</td>\n",
       "      <td>0</td>\n",
       "    </tr>\n",
       "    <tr>\n",
       "      <th>3</th>\n",
       "      <td>3</td>\n",
       "      <td>2.0</td>\n",
       "      <td>2</td>\n",
       "      <td>[[5.165218388073296, 4.000000296053829], [32.2...</td>\n",
       "      <td>[1.751353, -2.3982852, 4.52118, -2.247128, -0....</td>\n",
       "      <td>0</td>\n",
       "    </tr>\n",
       "    <tr>\n",
       "      <th>4</th>\n",
       "      <td>4</td>\n",
       "      <td>2.0</td>\n",
       "      <td>2</td>\n",
       "      <td>[[4.0000146888660275, 4.001872704135936], [32....</td>\n",
       "      <td>[0.08014268, -2.9484768, -0.4265794, 0.2333996...</td>\n",
       "      <td>0</td>\n",
       "    </tr>\n",
       "    <tr>\n",
       "      <th>5</th>\n",
       "      <td>5</td>\n",
       "      <td>2.0</td>\n",
       "      <td>2</td>\n",
       "      <td>[[4.000025618700416, 4.0000001041294], [32.204...</td>\n",
       "      <td>[-2.2600877, -4.019805, 4.2813807, -1.8660129,...</td>\n",
       "      <td>0</td>\n",
       "    </tr>\n",
       "    <tr>\n",
       "      <th>6</th>\n",
       "      <td>6</td>\n",
       "      <td>1.0</td>\n",
       "      <td>2</td>\n",
       "      <td>[[4.000000736955883, 4.007550305881523], [2.00...</td>\n",
       "      <td>[-3.2545335, 2.5076196, 0.8293208, -0.88272583...</td>\n",
       "      <td>0</td>\n",
       "    </tr>\n",
       "    <tr>\n",
       "      <th>7</th>\n",
       "      <td>7</td>\n",
       "      <td>1.0</td>\n",
       "      <td>2</td>\n",
       "      <td>[[4.000002467453669, 4.000023368286207], [11.3...</td>\n",
       "      <td>[2.2793784, 14.0619755, 1.8808489, -1.2680166,...</td>\n",
       "      <td>0</td>\n",
       "    </tr>\n",
       "  </tbody>\n",
       "</table>\n",
       "</div>"
      ],
      "text/plain": [
       "   Node_id  Parent_id  Time  \\\n",
       "0        0        NaN     0   \n",
       "1        1        0.0     1   \n",
       "2        2        0.0     1   \n",
       "3        3        2.0     2   \n",
       "4        4        2.0     2   \n",
       "5        5        2.0     2   \n",
       "6        6        1.0     2   \n",
       "7        7        1.0     2   \n",
       "\n",
       "                                               State  \\\n",
       "0  [[3383.8549814207113, 189297055.7911309], [0.0...   \n",
       "1  [[4.000000420040578, 4.000023307007723], [2.00...   \n",
       "2  [[4.000000034801811, 4.000000000004407], [32.2...   \n",
       "3  [[5.165218388073296, 4.000000296053829], [32.2...   \n",
       "4  [[4.0000146888660275, 4.001872704135936], [32....   \n",
       "5  [[4.000025618700416, 4.0000001041294], [32.204...   \n",
       "6  [[4.000000736955883, 4.007550305881523], [2.00...   \n",
       "7  [[4.000002467453669, 4.000023368286207], [11.3...   \n",
       "\n",
       "                                              Action  Reward  \n",
       "0                                               None       0  \n",
       "1  [-2.4991019, 5.326136, 0.30989826, 1.2112126, ...       0  \n",
       "2  [1.1645236, 20.820745, 10.028704, 0.5986221, -...       0  \n",
       "3  [1.751353, -2.3982852, 4.52118, -2.247128, -0....       0  \n",
       "4  [0.08014268, -2.9484768, -0.4265794, 0.2333996...       0  \n",
       "5  [-2.2600877, -4.019805, 4.2813807, -1.8660129,...       0  \n",
       "6  [-3.2545335, 2.5076196, 0.8293208, -0.88272583...       0  \n",
       "7  [2.2793784, 14.0619755, 1.8808489, -1.2680166,...       0  "
      ]
     },
     "execution_count": 25,
     "metadata": {},
     "output_type": "execute_result"
    }
   ],
   "source": [
    "pd.read_pickle(\"saved_runs/2023-04-21.0/History.pkl\")"
   ]
  },
  {
   "cell_type": "code",
   "execution_count": 2,
   "metadata": {},
   "outputs": [],
   "source": [
    "import torch\n",
    "\n",
    "\n",
    "DEVICE = \"cuda\""
   ]
  },
  {
   "cell_type": "code",
   "execution_count": 3,
   "metadata": {},
   "outputs": [
    {
     "ename": "AssertionError",
     "evalue": "Torch not compiled with CUDA enabled",
     "output_type": "error",
     "traceback": [
      "\u001b[1;31m---------------------------------------------------------------------------\u001b[0m",
      "\u001b[1;31mAssertionError\u001b[0m                            Traceback (most recent call last)",
      "Cell \u001b[1;32mIn[3], line 1\u001b[0m\n\u001b[1;32m----> 1\u001b[0m x \u001b[39m=\u001b[39m torch\u001b[39m.\u001b[39;49mrand(size\u001b[39m=\u001b[39;49m(\u001b[39m1000\u001b[39;49m,\u001b[39m1000\u001b[39;49m),device\u001b[39m=\u001b[39;49mDEVICE, requires_grad\u001b[39m=\u001b[39;49m\u001b[39mTrue\u001b[39;49;00m)\n\u001b[0;32m      2\u001b[0m L, V \u001b[39m=\u001b[39m torch\u001b[39m.\u001b[39mlinalg\u001b[39m.\u001b[39meig(x)\n\u001b[0;32m      3\u001b[0m y \u001b[39m=\u001b[39m ((x \u001b[39m@\u001b[39m V) \u001b[39m@\u001b[39m L)\u001b[39m.\u001b[39mexp()\u001b[39m.\u001b[39msum()\n",
      "File \u001b[1;32mc:\\Users\\IsakG\\projects\\exjobb\\exjobbvenv\\lib\\site-packages\\torch\\cuda\\__init__.py:239\u001b[0m, in \u001b[0;36m_lazy_init\u001b[1;34m()\u001b[0m\n\u001b[0;32m    235\u001b[0m     \u001b[39mraise\u001b[39;00m \u001b[39mRuntimeError\u001b[39;00m(\n\u001b[0;32m    236\u001b[0m         \u001b[39m\"\u001b[39m\u001b[39mCannot re-initialize CUDA in forked subprocess. To use CUDA with \u001b[39m\u001b[39m\"\u001b[39m\n\u001b[0;32m    237\u001b[0m         \u001b[39m\"\u001b[39m\u001b[39mmultiprocessing, you must use the \u001b[39m\u001b[39m'\u001b[39m\u001b[39mspawn\u001b[39m\u001b[39m'\u001b[39m\u001b[39m start method\u001b[39m\u001b[39m\"\u001b[39m)\n\u001b[0;32m    238\u001b[0m \u001b[39mif\u001b[39;00m \u001b[39mnot\u001b[39;00m \u001b[39mhasattr\u001b[39m(torch\u001b[39m.\u001b[39m_C, \u001b[39m'\u001b[39m\u001b[39m_cuda_getDeviceCount\u001b[39m\u001b[39m'\u001b[39m):\n\u001b[1;32m--> 239\u001b[0m     \u001b[39mraise\u001b[39;00m \u001b[39mAssertionError\u001b[39;00m(\u001b[39m\"\u001b[39m\u001b[39mTorch not compiled with CUDA enabled\u001b[39m\u001b[39m\"\u001b[39m)\n\u001b[0;32m    240\u001b[0m \u001b[39mif\u001b[39;00m _cudart \u001b[39mis\u001b[39;00m \u001b[39mNone\u001b[39;00m:\n\u001b[0;32m    241\u001b[0m     \u001b[39mraise\u001b[39;00m \u001b[39mAssertionError\u001b[39;00m(\n\u001b[0;32m    242\u001b[0m         \u001b[39m\"\u001b[39m\u001b[39mlibcudart functions unavailable. It looks like you have a broken build?\u001b[39m\u001b[39m\"\u001b[39m)\n",
      "\u001b[1;31mAssertionError\u001b[0m: Torch not compiled with CUDA enabled"
     ]
    },
    {
     "ename": "",
     "evalue": "",
     "output_type": "error",
     "traceback": [
      "\u001b[1;31mThe Kernel crashed while executing code in the the current cell or a previous cell. Please review the code in the cell(s) to identify a possible cause of the failure. Click <a href='https://aka.ms/vscodeJupyterKernelCrash'>here</a> for more info. View Jupyter <a href='command:jupyter.viewOutput'>log</a> for further details."
     ]
    }
   ],
   "source": []
  }
 ],
 "metadata": {
  "kernelspec": {
   "display_name": "exjobbvenv",
   "language": "python",
   "name": "python3"
  },
  "language_info": {
   "codemirror_mode": {
    "name": "ipython",
    "version": 3
   },
   "file_extension": ".py",
   "mimetype": "text/x-python",
   "name": "python",
   "nbconvert_exporter": "python",
   "pygments_lexer": "ipython3",
   "version": "3.10.11"
  },
  "orig_nbformat": 4
 },
 "nbformat": 4,
 "nbformat_minor": 2
}
