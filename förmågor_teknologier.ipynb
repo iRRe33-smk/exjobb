{
 "cells": [
  {
   "cell_type": "code",
   "execution_count": 1,
   "metadata": {},
   "outputs": [],
   "source": [
    "import pandas as pd\n",
    "import numpy as np"
   ]
  },
  {
   "attachments": {},
   "cell_type": "markdown",
   "metadata": {},
   "source": [
    "### Relevanta teknologier/teknikområden\n",
    "- Sensorteknologi\n",
    "    - Offensivt vs Defensivt\n",
    "    - Externa vs Interna\n",
    "    - Kvantteknisk mätteknik (kvantsensorer) \n",
    "        - Kvantavbildning\n",
    "- Obemannade farkoster för att samla information\n",
    "    - Fastställa lägesbild\n",
    "    - Underrättelse\n",
    "- Obemannade farkoster för operationer i farlig/svårtillkomlig miljö (3D, Dull Dirty Dangerous)\n",
    "- Obemannade farkoster för logistik\n",
    "- Obemannade farkoster för stridsföring (kanske för brett)\n",
    "- Långräckviddig precisionsbekämpning (sätter större krav på motståndarens offensiv (robotar/missiler))\n",
    "- Autonoma system för navigering och kommunikation\n",
    "    - Ex. Mjukvarudefinierad radio => kognitiv radio\n",
    "- Automatiska system för ruttplanering och målföljning\n",
    "- Analysprogram för att utföra tunga beräkningar \n",
    "- Automatisk lägesbildsanalys och omvärldsuppfattning\n",
    "    - Bildigenkänning\n",
    "    - Miljöavläsning (väder osv)\n",
    "- Artificiell Intelligens\n",
    "    - NLP\n",
    "    - Text mining\n",
    "    - Knowledge graphs\n",
    "    - Multi-modal understanding\n",
    "    - Common sense understanding and reasoning\n",
    "    - Surveillance\n",
    "    - Robotics\n",
    "- Beslutsstödssystem i farkoster\n",
    "- Besultsstödssystem i ledningsfunktioner\n",
    "- Beslutsstödssystem på individnivå\n",
    "- Beslutsstödssystem inkorpirerat i människan\n",
    "- Verklighetstrogna simuleringssystem (driva ner kostnader)\n",
    "    - Testning av system\n",
    "    - Virtual Reality\n",
    "- Kvantdatorer (ökad beräkningskraft -> gynnar AI-system)\n",
    "    - Dekryptering med kvantdatorer \n",
    "- HPM-teknik (möjlighet att slå ut autonoma system)\n",
    "    - Stationary HPM\n",
    "    - Mobile HPM\n",
    "- Telekrigsföring (möjlighet att slå ut autonoma system)\n",
    "    - Cyber\n",
    "- Human-enhancement\n",
    "    - Sensorisk förstärkning\n",
    "    - Kognitiv förstärkning\n",
    "- Samverkan mellan människa och maskin\n",
    "- Autonoma medicinska diagnossystem\n",
    "- Additiv tillverkning (automatisering av produktion)\n",
    "- Integration av autonomitet på existerande plattformar\n",
    "- Integration mellan plattformar och system (samverkande system)\n",
    "    - Datadelning\n",
    "    - Kommunikation\n",
    "    - Måldataförsörjning\n",
    "\n",
    "\n",
    "\n",
    "\n",
    "Tar med sig att AI/autonomassystem påverkar saker i flera led. Det pratas mycket om förmågan att signalbehandling/analys av stora mängder data och genom detta kunna ta optimala beslut i samtliga domäner och grundförmågor.\n",
    "\n",
    "\n",
    "Teknikutveckling -> Förmågeutveckling -> Förändring i operationsmiljö\n",
    "\n",
    "\n"
   ]
  },
  {
   "attachments": {},
   "cell_type": "markdown",
   "metadata": {},
   "source": [
    "### Teknologiområden inom autonomi\n",
    "\n",
    "1. Sensorteknologi\n",
    "    - Lägesbildsanalys och omvärldsuppfattning\n",
    "2. Obemannade farkoster\n",
    "    - Informationsinhämtning\n",
    "    - Farlig/svårtillkomlig miljö (3D, Dull Dirty Dangerous)\n",
    "    - Logistik\n",
    "    - Stridsföring\n",
    "3. Autonoma vapensystem\n",
    "4. Autonoma system för navigering\n",
    "    - Ruttplanering\n",
    "    - Målföljning\n",
    "5. Autonoma system för kommunikation/dataöverföring\n",
    "    - Integration mellan plattformar\n",
    "6. Beslutsstödssystem\n",
    "    - I farkoster\n",
    "    - I ledningsfunktioner\n",
    "    - På individnivå\n",
    "7. Simuleringsverktyg\n",
    "8. Cybersystem\n",
    "9. Kvantteknologi\n",
    "    - Datorer\n",
    "    - Mätteknik\n",
    "10. Human-enhancement\n",
    "    - Sensorisk förstärkning\n",
    "    - Kognitiv förstärkning\n",
    "11. Integration av autonomitet på existerande plattformar\n",
    "12. Autonom produktion\n",
    "    - Additiv tillverkning\n",
    "13. Störningssystem för autonoma system\n",
    "    - HPM\n",
    "    - Cyber\n"
   ]
  },
  {
   "attachments": {},
   "cell_type": "markdown",
   "metadata": {},
   "source": [
    "Arena\n",
    "- Anfalla strategisk position\n",
    "- Utföra specifik operation\n",
    "- "
   ]
  },
  {
   "cell_type": "code",
   "execution_count": 1,
   "metadata": {},
   "outputs": [],
   "source": [
    "# Klass-logik för teknologier och förmågor\n",
    "\n",
    "class technology:\n",
    "    name: str               \n",
    "    value: float                    # TRL (or equivalent) of the technology\n",
    "    domain: tuple[str, ...]         # air, marine, land\n",
    "    costIndex: str                  # cost index associated with developing technology\n",
    "    effectIndex: str                # effect index for the technology's predicted effect for the player\n",
    "    rndFactor: float                # inertia in RnD\n",
    "    riskFactor: float               # risk of investing in technology (how probable the technology is to develop)\n",
    "    cummulativeInvestment: float   \n",
    "\n",
    "\n",
    "class basicCapability: #TURVLUS\n",
    "    name: str # tex verkan\n",
    "    value: float # weighted sum of specificCapabilities\n",
    "    specificCapabilities: tuple[technology, ...]\n",
    "\n",
    "\n",
    "class capabilityMeasure:\n",
    "    value: float\n",
    "    basicCapabilities: tuple[basicCapability, ...] # weighted sum of basicCapabilities\n",
    "\n"
   ]
  },
  {
   "cell_type": "markdown",
   "metadata": {},
   "source": []
  }
 ],
 "metadata": {
  "kernelspec": {
   "display_name": "Python 3",
   "language": "python",
   "name": "python3"
  },
  "language_info": {
   "codemirror_mode": {
    "name": "ipython",
    "version": 3
   },
   "file_extension": ".py",
   "mimetype": "text/x-python",
   "name": "python",
   "nbconvert_exporter": "python",
   "pygments_lexer": "ipython3",
   "version": "3.9.13"
  },
  "orig_nbformat": 4,
  "vscode": {
   "interpreter": {
    "hash": "b0fa6594d8f4cbf19f97940f81e996739fb7646882a419484c72d19e05852a7e"
   }
  }
 },
 "nbformat": 4,
 "nbformat_minor": 2
}
