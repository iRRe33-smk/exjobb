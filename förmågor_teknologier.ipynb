{
 "cells": [
  {
   "cell_type": "code",
   "execution_count": 1,
   "metadata": {},
   "outputs": [],
   "source": [
    "import pandas as pd\n",
    "import numpy as np"
   ]
  },
  {
   "attachments": {},
   "cell_type": "markdown",
   "metadata": {},
   "source": [
    "### Relevanta teknologier/teknikområden\n",
    "- Sensorteknologi\n",
    "    - Kvantteknisk mätteknik (kvantsensorer) \n",
    "        - Kvantavbildning\n",
    "- Obemannade farkoster för underrättelse\n",
    "- Obemannade farkoster för att fastställa lägesbild\n",
    "- Obemannade farkoster för operationer i farlig/svårtillkomlig miljö (3D, Dull Dirty Dangerous)\n",
    "- Obemannade farkoster för logistik\n",
    "- Obemannade farkoster för stridsföring (kanske för brett)\n",
    "- Autonoma system för navigering och kommunikation\n",
    "- Automatiska system för ruttplanering och målföljning\n",
    "- Analysprogram för att utföra tunga beräkningar \n",
    "- Automatisk lägesbildsanalys\n",
    "    - Bildigenkänning\n",
    "    - Miljöavläsning (väder osv)\n",
    "    - \n",
    "- Artificial Intelligence\n",
    "    - NLP\n",
    "    - Text mining\n",
    "    - Knowledge graphs\n",
    "    - Multi-modal understanding\n",
    "    - Common sense understanding and reasoning\n",
    "    - Surveillance\n",
    "    - Robotics\n",
    "- Beslutsstödssystem i farkoster\n",
    "- Besultsstödssystem i ledningsfunktioner\n",
    "- Verklighetstrogna simuleringssystem\n",
    "- Kvantdatorer\n",
    "    - Dekryptering med kvantdatorer \n",
    "\n",
    "\n",
    "\n"
   ]
  },
  {
   "cell_type": "code",
   "execution_count": 4,
   "metadata": {},
   "outputs": [],
   "source": [
    "# Klass-logik för teknologier och förmågor\n",
    "\n",
    "class technology:\n",
    "    name: str\n",
    "    value: float # TRL (or equivalent) of the technology\n",
    "    domain: tuple[str, ...]\n",
    "    costIndex: str\n",
    "    rndFactor: float\n",
    "\n",
    "\n",
    "class specificCapability:\n",
    "    name: str\n",
    "    value: float # weighted sum of technologies\n",
    "    technologies: tuple[technology, ...]\n",
    "\n",
    "\n",
    "class basicCapability:\n",
    "    name: str # tex verkan\n",
    "    value: float # weighted sum of specificCapabilities\n",
    "    specificCapabilities: tuple[specificCapability, ...]\n",
    "\n",
    "\n",
    "class capabilityMeasure:\n",
    "    value: float\n",
    "    basicCapabilities: tuple[basicCapability, ...]\n",
    "\n"
   ]
  }
 ],
 "metadata": {
  "kernelspec": {
   "display_name": "Python 3",
   "language": "python",
   "name": "python3"
  },
  "language_info": {
   "codemirror_mode": {
    "name": "ipython",
    "version": 3
   },
   "file_extension": ".py",
   "mimetype": "text/x-python",
   "name": "python",
   "nbconvert_exporter": "python",
   "pygments_lexer": "ipython3",
   "version": "3.9.13"
  },
  "orig_nbformat": 4,
  "vscode": {
   "interpreter": {
    "hash": "b0fa6594d8f4cbf19f97940f81e996739fb7646882a419484c72d19e05852a7e"
   }
  }
 },
 "nbformat": 4,
 "nbformat_minor": 2
}
