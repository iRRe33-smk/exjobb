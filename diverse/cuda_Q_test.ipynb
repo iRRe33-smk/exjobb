{
 "cells": [
  {
   "cell_type": "code",
   "execution_count": 1,
   "metadata": {},
   "outputs": [
    {
     "name": "stdout",
     "output_type": "stream",
     "text": [
      "per it:0.01671129322052002\n"
     ]
    }
   ],
   "source": [
    "import torch\n",
    "from torch.autograd.functional import jacobian, hessian\n",
    "import time\n",
    "\n",
    "n = 124\n",
    "c = torch.rand([n,n],device=\"cuda\")\n",
    "\n",
    "def eval(X):\n",
    "    return X.cpu().cos().exp().sum()\n",
    "    \n",
    "    \n",
    "\n",
    "def update(X):\n",
    "    dx = jacobian(eval, X).cuda()\n",
    "    H = hessian(eval, X.squeeze()).cuda()\n",
    "    # print(H.size())\n",
    "    # print(dx.size())\n",
    "    X +  (c @ dx + (c @ c.T @ H) @ dx).cpu()\n",
    "    return(X)\n",
    "\n",
    "X = torch.rand((n,1), device = \"cpu\", requires_grad=True)\n",
    "\n",
    "k=1000\n",
    "start = time.time()\n",
    "for _ in range(k):\n",
    "    X = update(X)\n",
    "end = time.time()\n",
    "print(f\"per it:{(end-start)/k}\")"
   ]
  },
  {
   "cell_type": "code",
   "execution_count": 5,
   "metadata": {},
   "outputs": [],
   "source": [
    "import tensorflow as tf"
   ]
  },
  {
   "cell_type": "code",
   "execution_count": 7,
   "metadata": {},
   "outputs": [
    {
     "ename": "AttributeError",
     "evalue": "module 'tensorflow' has no attribute 'random_uniform'",
     "output_type": "error",
     "traceback": [
      "\u001b[1;31m---------------------------------------------------------------------------\u001b[0m",
      "\u001b[1;31mAttributeError\u001b[0m                            Traceback (most recent call last)",
      "Cell \u001b[1;32mIn[7], line 4\u001b[0m\n\u001b[0;32m      1\u001b[0m nTech \u001b[39m=\u001b[39m \u001b[39m14\u001b[39m\n\u001b[0;32m      2\u001b[0m nParams \u001b[39m=\u001b[39m \u001b[39m7\u001b[39m\n\u001b[1;32m----> 4\u001b[0m u \u001b[39m=\u001b[39m tf\u001b[39m.\u001b[39mVariable(tf\u001b[39m.\u001b[39;49mrandom_uniform((\u001b[39mNone\u001b[39;00m, nTech)))\n",
      "\u001b[1;31mAttributeError\u001b[0m: module 'tensorflow' has no attribute 'random_uniform'"
     ]
    }
   ],
   "source": [
    "nTech = 14\n",
    "nParams = 7\n",
    "\n",
    "u = tf.Variable(tf.random_uniform((None, nTech)))\n",
    "\n",
    "tf.ra \n",
    "\n"
   ]
  }
 ],
 "metadata": {
  "kernelspec": {
   "display_name": "gpuvenv",
   "language": "python",
   "name": "python3"
  },
  "language_info": {
   "codemirror_mode": {
    "name": "ipython",
    "version": 3
   },
   "file_extension": ".py",
   "mimetype": "text/x-python",
   "name": "python",
   "nbconvert_exporter": "python",
   "pygments_lexer": "ipython3",
   "version": "3.8.10"
  },
  "orig_nbformat": 4
 },
 "nbformat": 4,
 "nbformat_minor": 2
}
