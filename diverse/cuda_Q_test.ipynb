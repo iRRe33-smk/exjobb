{
 "cells": [
  {
   "cell_type": "code",
   "execution_count": 1,
   "metadata": {},
   "outputs": [
    {
     "name": "stdout",
     "output_type": "stream",
     "text": [
      "per it:0.01671129322052002\n"
     ]
    }
   ],
   "source": [
    "import torch\n",
    "from torch.autograd.functional import jacobian, hessian\n",
    "import time\n",
    "\n",
    "n = 124\n",
    "c = torch.rand([n,n],device=\"cuda\")\n",
    "\n",
    "def eval(X):\n",
    "    return X.cpu().cos().exp().sum()\n",
    "    \n",
    "    \n",
    "\n",
    "def update(X):\n",
    "    dx = jacobian(eval, X).cuda()\n",
    "    H = hessian(eval, X.squeeze()).cuda()\n",
    "    # print(H.size())\n",
    "    # print(dx.size())\n",
    "    X +  (c @ dx + (c @ c.T @ H) @ dx).cpu()\n",
    "    return(X)\n",
    "\n",
    "X = torch.rand((n,1), device = \"cpu\", requires_grad=True)\n",
    "\n",
    "k=1000\n",
    "start = time.time()\n",
    "for _ in range(k):\n",
    "    X = update(X)\n",
    "end = time.time()\n",
    "print(f\"per it:{(end-start)/k}\")"
   ]
  },
  {
   "cell_type": "code",
   "execution_count": 15,
   "metadata": {},
   "outputs": [
    {
     "data": {
      "text/plain": [
       "0.0"
      ]
     },
     "execution_count": 15,
     "metadata": {},
     "output_type": "execute_result"
    }
   ],
   "source": [
    "time.time() - time.time()\n"
   ]
  }
 ],
 "metadata": {
  "kernelspec": {
   "display_name": "gpuvenv",
   "language": "python",
   "name": "python3"
  },
  "language_info": {
   "codemirror_mode": {
    "name": "ipython",
    "version": 3
   },
   "file_extension": ".py",
   "mimetype": "text/x-python",
   "name": "python",
   "nbconvert_exporter": "python",
   "pygments_lexer": "ipython3",
   "version": "3.8.10"
  },
  "orig_nbformat": 4
 },
 "nbformat": 4,
 "nbformat_minor": 2
}
