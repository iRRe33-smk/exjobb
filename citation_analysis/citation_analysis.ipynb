{
 "cells": [
  {
   "cell_type": "code",
   "execution_count": 998,
   "metadata": {},
   "outputs": [],
   "source": [
    "import pandas as pd\n",
    "import numpy as np\n",
    "from matplotlib import pyplot as plt\n",
    "import paramnormal\n",
    "# import seaborn as sns\n",
    "# from statsmodels import api\n",
    "from scipy import stats\n",
    "from scipy.optimize import minimize \n",
    "import json\n",
    "# import pprint\n"
   ]
  },
  {
   "cell_type": "code",
   "execution_count": 999,
   "metadata": {},
   "outputs": [],
   "source": [
    "# This function cleans the data and creates c_0, c_f, and log_c_f\n",
    "\n",
    "def cleanData(df):\n",
    "    # Remove unnecessary columns\n",
    "    df = df.drop('Link', axis=1)\n",
    "    df = df.dropna()\n",
    "    #df = df[df['Cited by'] >= 0]\n",
    "    c_0_list = []\n",
    "\n",
    "    # Calc c_0\n",
    "    c_0 = {year : df.loc[df['Year'] == year, 'Cited by'].mean() for year in range(2001,2020)}\n",
    "\n",
    "    for index, row in df.iterrows():\n",
    "        c_0_list.append(c_0[row['Year']])\n",
    "        #df['c_0'][index] = c_0[row['Year']]\n",
    "    df['c_0'] = c_0_list\n",
    "    # Calc c_f\n",
    "    df['c_f'] = df['Cited by'] / df['c_0']\n",
    "    df['c_f'].astype(np.float64)\n",
    "    \n",
    "    df['log_c_f'] = np.log(df['c_f'])\n",
    "    df = df[df['c_f'] >= 0.1]\n",
    "\n",
    "\n",
    "    return df\n"
   ]
  },
  {
   "cell_type": "code",
   "execution_count": 1000,
   "metadata": {},
   "outputs": [],
   "source": [
    "# Load data sets\n",
    "\n",
    "ai_ml = pd.read_csv('AI_ML.csv')\n",
    "col_sys = pd.read_csv('Swarming_MultiAgent.csv')\n",
    "com_net = pd.read_csv('Communications_Networking.csv')\n",
    "cont_alg = pd.read_csv('ControlSystems_Algorithms.csv')\n",
    "cyb_sec = pd.read_csv('CyberSecurity.csv')\n",
    "edg_com = pd.read_csv('EdgeComputing.csv')\n",
    "ene_mgm = pd.read_csv('EnergyManagement.csv')\n",
    "eth_reg = pd.read_csv('EthicsRegulations.csv')\n",
    "hum_man = pd.read_csv('HumanMachineInteraction.csv')\n",
    "loc_map = pd.read_csv('Localization_mapping.csv')\n",
    "sen_fus = pd.read_csv('sensor_fusion.csv')\n",
    "sen_tec = pd.read_csv('sensor_technology.csv')\n",
    "sim_mod = pd.read_csv('Simulation_Modeling.csv')\n",
    "tec_mob = pd.read_csv('Robotics.csv')\n",
    "\n",
    "\n",
    "dataSets = [ai_ml, col_sys, com_net, cont_alg, cyb_sec, edg_com, ene_mgm, eth_reg, hum_man, loc_map, sen_fus, sen_tec, sim_mod, tec_mob]\n",
    "keyNames = [\"ai_ml\", \"col_sys\", \"com_net\", \"cont_alg\", \"cyb_sec\", \"edg_com\", \"ene_mgm\", \"eth_reg\", \"hum_man\", \"loc_map\", \"sen_fus\", \"sen_tec\", \"sim_mod\", \"tec_mob\"]\n",
    "fullNames = [\"AI & Machine Learning\", \"Collaborative systems\", \"Communications & Networking\", \"Control systems & Algorithms\", \"Cybersecurity\", \"Edge Computing\", \"Energy Management\", \"Ethics & Regulations\", \"Human Machine Interaction\", \"Localization & Mapping\", \"Sensor Fusion\", \"Sensor Technologies\", \"Simulation & Modeling\", \"Technologies enabling mobility\"]\n"
   ]
  },
  {
   "cell_type": "code",
   "execution_count": 1001,
   "metadata": {},
   "outputs": [],
   "source": [
    "def MLE(dataSets):    \n",
    "    dist = stats.lognorm\n",
    "    bounds = {\n",
    "        'loc': (0,1),\n",
    "        's': (0,2),\n",
    "        'scale': (0,2)\n",
    "    }\n",
    "    #bounds = [(0,2), (0,1), (0,5)]\n",
    "    parameterDict = {}\n",
    "    bins = 50\n",
    "\n",
    "    for index, df in enumerate(dataSets):\n",
    "        df = cleanData(df)\n",
    "        vals = df['c_f'].values.tolist()\n",
    "        #res = paramnormal.lognormal.fit(vals)\n",
    "        res = stats.fit(dist, vals, bounds=bounds, method='mle')\n",
    "        \n",
    "        parameterDict.update({keyNames[index]: {'mu': res.params.loc}})\n",
    "        parameterDict[keyNames[index]].update({'sigma': res.params.s})\n",
    "        parameterDict[keyNames[index]].update({'scale': res.params.scale})\n",
    "        \n",
    "    return parameterDict"
   ]
  },
  {
   "cell_type": "code",
   "execution_count": 1002,
   "metadata": {},
   "outputs": [
    {
     "name": "stderr",
     "output_type": "stream",
     "text": [
      "/opt/homebrew/anaconda3/envs/exjobb/lib/python3.9/site-packages/pandas/core/arraylike.py:402: RuntimeWarning: divide by zero encountered in log\n",
      "  result = getattr(ufunc, method)(*inputs, **kwargs)\n",
      "/opt/homebrew/anaconda3/envs/exjobb/lib/python3.9/site-packages/pandas/core/arraylike.py:402: RuntimeWarning: divide by zero encountered in log\n",
      "  result = getattr(ufunc, method)(*inputs, **kwargs)\n",
      "/opt/homebrew/anaconda3/envs/exjobb/lib/python3.9/site-packages/scipy/stats/_distn_infrastructure.py:1636: RuntimeWarning: overflow encountered in divide\n",
      "  x = asarray((x-loc) / scale)\n",
      "/opt/homebrew/anaconda3/envs/exjobb/lib/python3.9/site-packages/pandas/core/arraylike.py:402: RuntimeWarning: divide by zero encountered in log\n",
      "  result = getattr(ufunc, method)(*inputs, **kwargs)\n",
      "/opt/homebrew/anaconda3/envs/exjobb/lib/python3.9/site-packages/pandas/core/arraylike.py:402: RuntimeWarning: divide by zero encountered in log\n",
      "  result = getattr(ufunc, method)(*inputs, **kwargs)\n",
      "/opt/homebrew/anaconda3/envs/exjobb/lib/python3.9/site-packages/scipy/stats/_distn_infrastructure.py:1636: RuntimeWarning: overflow encountered in divide\n",
      "  x = asarray((x-loc) / scale)\n",
      "/opt/homebrew/anaconda3/envs/exjobb/lib/python3.9/site-packages/pandas/core/arraylike.py:402: RuntimeWarning: divide by zero encountered in log\n",
      "  result = getattr(ufunc, method)(*inputs, **kwargs)\n",
      "/opt/homebrew/anaconda3/envs/exjobb/lib/python3.9/site-packages/pandas/core/arraylike.py:402: RuntimeWarning: divide by zero encountered in log\n",
      "  result = getattr(ufunc, method)(*inputs, **kwargs)\n",
      "/opt/homebrew/anaconda3/envs/exjobb/lib/python3.9/site-packages/scipy/stats/_distn_infrastructure.py:1636: RuntimeWarning: overflow encountered in divide\n",
      "  x = asarray((x-loc) / scale)\n",
      "/opt/homebrew/anaconda3/envs/exjobb/lib/python3.9/site-packages/pandas/core/arraylike.py:402: RuntimeWarning: divide by zero encountered in log\n",
      "  result = getattr(ufunc, method)(*inputs, **kwargs)\n",
      "/opt/homebrew/anaconda3/envs/exjobb/lib/python3.9/site-packages/scipy/stats/_distn_infrastructure.py:1636: RuntimeWarning: overflow encountered in divide\n",
      "  x = asarray((x-loc) / scale)\n",
      "/opt/homebrew/anaconda3/envs/exjobb/lib/python3.9/site-packages/pandas/core/arraylike.py:402: RuntimeWarning: divide by zero encountered in log\n",
      "  result = getattr(ufunc, method)(*inputs, **kwargs)\n",
      "/opt/homebrew/anaconda3/envs/exjobb/lib/python3.9/site-packages/scipy/stats/_distn_infrastructure.py:1636: RuntimeWarning: overflow encountered in divide\n",
      "  x = asarray((x-loc) / scale)\n",
      "/opt/homebrew/anaconda3/envs/exjobb/lib/python3.9/site-packages/pandas/core/arraylike.py:402: RuntimeWarning: divide by zero encountered in log\n",
      "  result = getattr(ufunc, method)(*inputs, **kwargs)\n",
      "/opt/homebrew/anaconda3/envs/exjobb/lib/python3.9/site-packages/scipy/stats/_distn_infrastructure.py:1636: RuntimeWarning: overflow encountered in divide\n",
      "  x = asarray((x-loc) / scale)\n",
      "/opt/homebrew/anaconda3/envs/exjobb/lib/python3.9/site-packages/pandas/core/arraylike.py:402: RuntimeWarning: divide by zero encountered in log\n",
      "  result = getattr(ufunc, method)(*inputs, **kwargs)\n",
      "/opt/homebrew/anaconda3/envs/exjobb/lib/python3.9/site-packages/pandas/core/arraylike.py:402: RuntimeWarning: divide by zero encountered in log\n",
      "  result = getattr(ufunc, method)(*inputs, **kwargs)\n",
      "/opt/homebrew/anaconda3/envs/exjobb/lib/python3.9/site-packages/scipy/stats/_distn_infrastructure.py:1636: RuntimeWarning: overflow encountered in divide\n",
      "  x = asarray((x-loc) / scale)\n",
      "/opt/homebrew/anaconda3/envs/exjobb/lib/python3.9/site-packages/pandas/core/arraylike.py:402: RuntimeWarning: divide by zero encountered in log\n",
      "  result = getattr(ufunc, method)(*inputs, **kwargs)\n",
      "/opt/homebrew/anaconda3/envs/exjobb/lib/python3.9/site-packages/scipy/stats/_distn_infrastructure.py:1636: RuntimeWarning: overflow encountered in divide\n",
      "  x = asarray((x-loc) / scale)\n",
      "/opt/homebrew/anaconda3/envs/exjobb/lib/python3.9/site-packages/pandas/core/arraylike.py:402: RuntimeWarning: divide by zero encountered in log\n",
      "  result = getattr(ufunc, method)(*inputs, **kwargs)\n",
      "/opt/homebrew/anaconda3/envs/exjobb/lib/python3.9/site-packages/pandas/core/arraylike.py:402: RuntimeWarning: divide by zero encountered in log\n",
      "  result = getattr(ufunc, method)(*inputs, **kwargs)\n",
      "/opt/homebrew/anaconda3/envs/exjobb/lib/python3.9/site-packages/scipy/stats/_distn_infrastructure.py:1636: RuntimeWarning: overflow encountered in divide\n",
      "  x = asarray((x-loc) / scale)\n"
     ]
    }
   ],
   "source": [
    "# Perform the estimation\n",
    "parameters = MLE(dataSets)"
   ]
  },
  {
   "cell_type": "code",
   "execution_count": 1003,
   "metadata": {},
   "outputs": [
    {
     "data": {
      "text/plain": [
       "{'ai_ml': {'mu': 0.09520260954174707,\n",
       "  'sigma': 1.545241542640154,\n",
       "  'scale': 0.4181820841982703},\n",
       " 'col_sys': {'mu': 0.09487033002148881,\n",
       "  'sigma': 1.524605548633512,\n",
       "  'scale': 0.44491973501012316},\n",
       " 'com_net': {'mu': 0.09735305673826317,\n",
       "  'sigma': 1.7239329831100585,\n",
       "  'scale': 0.33314622963374996},\n",
       " 'cont_alg': {'mu': 0.09547147781256293,\n",
       "  'sigma': 1.5284278519175685,\n",
       "  'scale': 0.4114940895712773},\n",
       " 'cyb_sec': {'mu': 0.09579330640792914,\n",
       "  'sigma': 1.569649884728646,\n",
       "  'scale': 0.3885951410201422},\n",
       " 'edg_com': {'mu': 0.09373725977183765,\n",
       "  'sigma': 1.6714002359835047,\n",
       "  'scale': 0.35329014637726563},\n",
       " 'ene_mgm': {'mu': 0.10059853843858513,\n",
       "  'sigma': 1.4562670133904239,\n",
       "  'scale': 0.44796182849304284},\n",
       " 'eth_reg': {'mu': 0.09631855995151785,\n",
       "  'sigma': 1.4067496411128897,\n",
       "  'scale': 0.4823682175224853},\n",
       " 'hum_man': {'mu': 0.1066845921425644,\n",
       "  'sigma': 1.602739393283691,\n",
       "  'scale': 0.41729951549174377},\n",
       " 'loc_map': {'mu': 0.09303465635905997,\n",
       "  'sigma': 1.5724129089433712,\n",
       "  'scale': 0.37039254456973497},\n",
       " 'sen_fus': {'mu': 0.10464246629670411,\n",
       "  'sigma': 1.5545611153405736,\n",
       "  'scale': 0.40888330188785693},\n",
       " 'sen_tec': {'mu': 0.10096095994817296,\n",
       "  'sigma': 1.6071441199637753,\n",
       "  'scale': 0.3939026796311761},\n",
       " 'sim_mod': {'mu': 0.0957616295137878,\n",
       "  'sigma': 1.5499917409867257,\n",
       "  'scale': 0.4040235870733546},\n",
       " 'tec_mob': {'mu': 0.09499516890469309,\n",
       "  'sigma': 1.5814933294997222,\n",
       "  'scale': 0.3944078813859912}}"
      ]
     },
     "execution_count": 1003,
     "metadata": {},
     "output_type": "execute_result"
    }
   ],
   "source": [
    "parameters"
   ]
  },
  {
   "cell_type": "code",
   "execution_count": 1004,
   "metadata": {},
   "outputs": [],
   "source": [
    "with open(\"distribution_params.json\", \"w\") as write_file:\n",
    "    json.dump(parameters, write_file, indent=4)"
   ]
  },
  {
   "cell_type": "code",
   "execution_count": 1005,
   "metadata": {},
   "outputs": [],
   "source": [
    "csfont = {'fontname':'Georgia'}\n",
    "hfont = {'fontname':'Helvetica'}\n",
    "plt.rcParams[\"font.family\"] = \"serif\"\n",
    "plt.rcParams[\"font.serif\"] = [\"Times new roman\"]"
   ]
  },
  {
   "cell_type": "code",
   "execution_count": 1006,
   "metadata": {},
   "outputs": [],
   "source": [
    "def chi_test(df, mu, sigma, scale):\n",
    "    df = cleanData(df)\n",
    "    vals = df['c_f'].values.tolist()\n",
    "    hist = plt.hist(vals, density=True, bins=np.linspace(0,max(vals),1001))\n",
    "\n",
    "    dist = stats.lognorm(loc=mu, s = sigma, scale=scale)\n",
    "    x = np.linspace(0,max(vals),1000)\n",
    "    p = dist.pdf(x)\n",
    "\n",
    "    observed = hist[0] / sum(hist[0])\n",
    "    expected = p / sum(p)\n",
    "\n",
    "    res = stats.chisquare(f_obs=observed, f_exp=expected)\n",
    "    return res"
   ]
  },
  {
   "cell_type": "code",
   "execution_count": 1007,
   "metadata": {},
   "outputs": [
    {
     "name": "stderr",
     "output_type": "stream",
     "text": [
      "/opt/homebrew/anaconda3/envs/exjobb/lib/python3.9/site-packages/pandas/core/arraylike.py:402: RuntimeWarning: divide by zero encountered in log\n",
      "  result = getattr(ufunc, method)(*inputs, **kwargs)\n",
      "/opt/homebrew/anaconda3/envs/exjobb/lib/python3.9/site-packages/scipy/stats/_stats_py.py:7407: RuntimeWarning: invalid value encountered in divide\n",
      "  terms = (f_obs_float - f_exp)**2 / f_exp\n",
      "/opt/homebrew/anaconda3/envs/exjobb/lib/python3.9/site-packages/pandas/core/arraylike.py:402: RuntimeWarning: divide by zero encountered in log\n",
      "  result = getattr(ufunc, method)(*inputs, **kwargs)\n",
      "/opt/homebrew/anaconda3/envs/exjobb/lib/python3.9/site-packages/scipy/stats/_stats_py.py:7407: RuntimeWarning: divide by zero encountered in divide\n",
      "  terms = (f_obs_float - f_exp)**2 / f_exp\n",
      "/opt/homebrew/anaconda3/envs/exjobb/lib/python3.9/site-packages/pandas/core/arraylike.py:402: RuntimeWarning: divide by zero encountered in log\n",
      "  result = getattr(ufunc, method)(*inputs, **kwargs)\n",
      "/opt/homebrew/anaconda3/envs/exjobb/lib/python3.9/site-packages/scipy/stats/_stats_py.py:7407: RuntimeWarning: invalid value encountered in divide\n",
      "  terms = (f_obs_float - f_exp)**2 / f_exp\n",
      "/opt/homebrew/anaconda3/envs/exjobb/lib/python3.9/site-packages/pandas/core/arraylike.py:402: RuntimeWarning: divide by zero encountered in log\n",
      "  result = getattr(ufunc, method)(*inputs, **kwargs)\n",
      "/opt/homebrew/anaconda3/envs/exjobb/lib/python3.9/site-packages/scipy/stats/_stats_py.py:7407: RuntimeWarning: divide by zero encountered in divide\n",
      "  terms = (f_obs_float - f_exp)**2 / f_exp\n",
      "/opt/homebrew/anaconda3/envs/exjobb/lib/python3.9/site-packages/pandas/core/arraylike.py:402: RuntimeWarning: divide by zero encountered in log\n",
      "  result = getattr(ufunc, method)(*inputs, **kwargs)\n",
      "/opt/homebrew/anaconda3/envs/exjobb/lib/python3.9/site-packages/scipy/stats/_stats_py.py:7407: RuntimeWarning: divide by zero encountered in divide\n",
      "  terms = (f_obs_float - f_exp)**2 / f_exp\n",
      "/opt/homebrew/anaconda3/envs/exjobb/lib/python3.9/site-packages/pandas/core/arraylike.py:402: RuntimeWarning: divide by zero encountered in log\n",
      "  result = getattr(ufunc, method)(*inputs, **kwargs)\n",
      "/opt/homebrew/anaconda3/envs/exjobb/lib/python3.9/site-packages/scipy/stats/_stats_py.py:7407: RuntimeWarning: divide by zero encountered in divide\n",
      "  terms = (f_obs_float - f_exp)**2 / f_exp\n",
      "/opt/homebrew/anaconda3/envs/exjobb/lib/python3.9/site-packages/scipy/stats/_stats_py.py:7407: RuntimeWarning: invalid value encountered in divide\n",
      "  terms = (f_obs_float - f_exp)**2 / f_exp\n",
      "/opt/homebrew/anaconda3/envs/exjobb/lib/python3.9/site-packages/pandas/core/arraylike.py:402: RuntimeWarning: divide by zero encountered in log\n",
      "  result = getattr(ufunc, method)(*inputs, **kwargs)\n",
      "/opt/homebrew/anaconda3/envs/exjobb/lib/python3.9/site-packages/scipy/stats/_stats_py.py:7407: RuntimeWarning: divide by zero encountered in divide\n",
      "  terms = (f_obs_float - f_exp)**2 / f_exp\n",
      "/opt/homebrew/anaconda3/envs/exjobb/lib/python3.9/site-packages/scipy/stats/_stats_py.py:7407: RuntimeWarning: invalid value encountered in divide\n",
      "  terms = (f_obs_float - f_exp)**2 / f_exp\n",
      "/opt/homebrew/anaconda3/envs/exjobb/lib/python3.9/site-packages/pandas/core/arraylike.py:402: RuntimeWarning: divide by zero encountered in log\n",
      "  result = getattr(ufunc, method)(*inputs, **kwargs)\n",
      "/opt/homebrew/anaconda3/envs/exjobb/lib/python3.9/site-packages/scipy/stats/_stats_py.py:7407: RuntimeWarning: divide by zero encountered in divide\n",
      "  terms = (f_obs_float - f_exp)**2 / f_exp\n",
      "/opt/homebrew/anaconda3/envs/exjobb/lib/python3.9/site-packages/pandas/core/arraylike.py:402: RuntimeWarning: divide by zero encountered in log\n",
      "  result = getattr(ufunc, method)(*inputs, **kwargs)\n",
      "/opt/homebrew/anaconda3/envs/exjobb/lib/python3.9/site-packages/scipy/stats/_stats_py.py:7407: RuntimeWarning: divide by zero encountered in divide\n",
      "  terms = (f_obs_float - f_exp)**2 / f_exp\n",
      "/opt/homebrew/anaconda3/envs/exjobb/lib/python3.9/site-packages/scipy/stats/_stats_py.py:7407: RuntimeWarning: invalid value encountered in divide\n",
      "  terms = (f_obs_float - f_exp)**2 / f_exp\n",
      "/opt/homebrew/anaconda3/envs/exjobb/lib/python3.9/site-packages/pandas/core/arraylike.py:402: RuntimeWarning: divide by zero encountered in log\n",
      "  result = getattr(ufunc, method)(*inputs, **kwargs)\n",
      "/opt/homebrew/anaconda3/envs/exjobb/lib/python3.9/site-packages/scipy/stats/_stats_py.py:7407: RuntimeWarning: divide by zero encountered in divide\n",
      "  terms = (f_obs_float - f_exp)**2 / f_exp\n",
      "/opt/homebrew/anaconda3/envs/exjobb/lib/python3.9/site-packages/pandas/core/arraylike.py:402: RuntimeWarning: divide by zero encountered in log\n",
      "  result = getattr(ufunc, method)(*inputs, **kwargs)\n",
      "/opt/homebrew/anaconda3/envs/exjobb/lib/python3.9/site-packages/scipy/stats/_stats_py.py:7407: RuntimeWarning: invalid value encountered in divide\n",
      "  terms = (f_obs_float - f_exp)**2 / f_exp\n",
      "/opt/homebrew/anaconda3/envs/exjobb/lib/python3.9/site-packages/pandas/core/arraylike.py:402: RuntimeWarning: divide by zero encountered in log\n",
      "  result = getattr(ufunc, method)(*inputs, **kwargs)\n",
      "/opt/homebrew/anaconda3/envs/exjobb/lib/python3.9/site-packages/scipy/stats/_stats_py.py:7407: RuntimeWarning: invalid value encountered in divide\n",
      "  terms = (f_obs_float - f_exp)**2 / f_exp\n",
      "/opt/homebrew/anaconda3/envs/exjobb/lib/python3.9/site-packages/pandas/core/arraylike.py:402: RuntimeWarning: divide by zero encountered in log\n",
      "  result = getattr(ufunc, method)(*inputs, **kwargs)\n",
      "/opt/homebrew/anaconda3/envs/exjobb/lib/python3.9/site-packages/scipy/stats/_stats_py.py:7407: RuntimeWarning: divide by zero encountered in divide\n",
      "  terms = (f_obs_float - f_exp)**2 / f_exp\n",
      "/opt/homebrew/anaconda3/envs/exjobb/lib/python3.9/site-packages/pandas/core/arraylike.py:402: RuntimeWarning: divide by zero encountered in log\n",
      "  result = getattr(ufunc, method)(*inputs, **kwargs)\n",
      "/opt/homebrew/anaconda3/envs/exjobb/lib/python3.9/site-packages/scipy/stats/_stats_py.py:7407: RuntimeWarning: divide by zero encountered in divide\n",
      "  terms = (f_obs_float - f_exp)**2 / f_exp\n"
     ]
    }
   ],
   "source": [
    "for index, df in enumerate(dataSets):\n",
    "    mu = parameters[keyNames[index]][\"mu\"]\n",
    "    sigma = parameters[keyNames[index]][\"sigma\"]\n",
    "    scale = parameters[keyNames[index]][\"scale\"]\n",
    "\n",
    "    chi_test(df, mu, sigma, scale)"
   ]
  },
  {
   "cell_type": "code",
   "execution_count": 1052,
   "metadata": {},
   "outputs": [],
   "source": [
    "def plot_hist(dataSets, parameters=parameters, keyNames=keyNames):\n",
    "    dist = stats.lognorm\n",
    "    bounds = {\n",
    "        'loc': (0,1),\n",
    "        's': (0,2),\n",
    "        'scale': (0,2)\n",
    "    }\n",
    "\n",
    "    bin_edges = np.logspace(-1,2.5,20)\n",
    "\n",
    "    for index, df in enumerate(dataSets):\n",
    "        df = cleanData(df)\n",
    "        vals = df['c_f'].values.tolist()\n",
    "        \n",
    "        fig, axes = plt.subplots(nrows=7, ncols=2)\n",
    "        axes[index][] = plt.hist(vals, bins=bin_edges, density=True)\n",
    "        \n",
    "       # plt.figure()\n",
    "        #res = stats.fit(dist, hist[0], bounds=bounds, method='mle')\n",
    "\n",
    "        mu = parameters[keyNames[index]]['mu'] #res.params.loc\n",
    "        sigma = parameters[keyNames[index]]['sigma'] \n",
    "        scale = parameters[keyNames[index]]['scale'] \n",
    "\n",
    "        dist = stats.lognorm(loc=mu, s = sigma, scale=scale)\n",
    "        p = dist.pdf(bin_edges)\n",
    "       \n",
    "        axes[index] = plt.plot(bin_edges, p)\n",
    "        plt.xscale('log')\n",
    "        plt.yscale('log')\n",
    "        plt.title(fullNames[index])\n",
    "    plt.show()\n",
    "    \n",
    "\n"
   ]
  },
  {
   "cell_type": "code",
   "execution_count": 1051,
   "metadata": {},
   "outputs": [
    {
     "data": {
      "text/plain": [
       "array([1.00000000e-01, 1.52830673e-01, 2.33572147e-01, 3.56969885e-01,\n",
       "       5.45559478e-01, 8.33782223e-01, 1.27427499e+00, 1.94748304e+00,\n",
       "       2.97635144e+00, 4.54877795e+00, 6.95192796e+00, 1.06246783e+01,\n",
       "       1.62377674e+01, 2.48162892e+01, 3.79269019e+01, 5.79639395e+01,\n",
       "       8.85866790e+01, 1.35387618e+02, 2.06913808e+02, 3.16227766e+02])"
      ]
     },
     "execution_count": 1051,
     "metadata": {},
     "output_type": "execute_result"
    }
   ],
   "source": [
    "np.logspace(-1,2.5,20)"
   ]
  },
  {
   "cell_type": "code",
   "execution_count": 1053,
   "metadata": {},
   "outputs": [
    {
     "name": "stderr",
     "output_type": "stream",
     "text": [
      "/opt/homebrew/anaconda3/envs/exjobb/lib/python3.9/site-packages/pandas/core/arraylike.py:402: RuntimeWarning: divide by zero encountered in log\n",
      "  result = getattr(ufunc, method)(*inputs, **kwargs)\n"
     ]
    },
    {
     "ename": "ValueError",
     "evalue": "could not broadcast input array from shape (3,) into shape (2,)",
     "output_type": "error",
     "traceback": [
      "\u001b[0;31m---------------------------------------------------------------------------\u001b[0m",
      "\u001b[0;31mValueError\u001b[0m                                Traceback (most recent call last)",
      "Cell \u001b[0;32mIn[1053], line 1\u001b[0m\n\u001b[0;32m----> 1\u001b[0m plot_hist(dataSets, parameters)\n",
      "Cell \u001b[0;32mIn[1052], line 16\u001b[0m, in \u001b[0;36mplot_hist\u001b[0;34m(dataSets, parameters, keyNames)\u001b[0m\n\u001b[1;32m     13\u001b[0m  vals \u001b[39m=\u001b[39m df[\u001b[39m'\u001b[39m\u001b[39mc_f\u001b[39m\u001b[39m'\u001b[39m]\u001b[39m.\u001b[39mvalues\u001b[39m.\u001b[39mtolist()\n\u001b[1;32m     15\u001b[0m  fig, axes \u001b[39m=\u001b[39m plt\u001b[39m.\u001b[39msubplots(nrows\u001b[39m=\u001b[39m\u001b[39m7\u001b[39m, ncols\u001b[39m=\u001b[39m\u001b[39m2\u001b[39m)\n\u001b[0;32m---> 16\u001b[0m  axes[index] \u001b[39m=\u001b[39m plt\u001b[39m.\u001b[39mhist(vals, bins\u001b[39m=\u001b[39mbin_edges, density\u001b[39m=\u001b[39m\u001b[39mTrue\u001b[39;00m)\n\u001b[1;32m     18\u001b[0m \u001b[39m# plt.figure()\u001b[39;00m\n\u001b[1;32m     19\u001b[0m  \u001b[39m#res = stats.fit(dist, hist[0], bounds=bounds, method='mle')\u001b[39;00m\n\u001b[1;32m     21\u001b[0m  mu \u001b[39m=\u001b[39m parameters[keyNames[index]][\u001b[39m'\u001b[39m\u001b[39mmu\u001b[39m\u001b[39m'\u001b[39m] \u001b[39m#res.params.loc\u001b[39;00m\n",
      "\u001b[0;31mValueError\u001b[0m: could not broadcast input array from shape (3,) into shape (2,)"
     ]
    }
   ],
   "source": [
    "plot_hist(dataSets, parameters)"
   ]
  },
  {
   "cell_type": "code",
   "execution_count": 1035,
   "metadata": {},
   "outputs": [],
   "source": [
    "def plot_all_pdfs(dataSets, parameters=parameters, keyNames=keyNames):\n",
    "    \n",
    "\n",
    "    bin_edges = np.logspace(0,2.5,20)\n",
    "    for index, df in enumerate(dataSets):\n",
    "        mu = parameters[keyNames[index]]['mu'] #res.params.loc\n",
    "        sigma = parameters[keyNames[index]]['sigma'] \n",
    "        scale = parameters[keyNames[index]]['scale'] \n",
    "\n",
    "        dist = stats.lognorm(loc=mu, s = sigma, scale=scale)\n",
    "        p = dist.pdf(bin_edges)\n",
    "       \n",
    "        plt.plot(bin_edges, p)\n",
    "        plt.xscale('log')\n",
    "        plt.yscale('log')\n",
    "    plt.show()"
   ]
  },
  {
   "cell_type": "code",
   "execution_count": 1042,
   "metadata": {},
   "outputs": [
    {
     "data": {
      "image/png": "[encoded data removed]",
      "text/plain": [
       "<Figure size 640x480 with 1 Axes>"
      ]
     },
     "metadata": {},
     "output_type": "display_data"
    }
   ],
   "source": [
    "plot_all_pdfs(dataSets, parameters)"
   ]
  },
  {
   "cell_type": "code",
   "execution_count": 1038,
   "metadata": {},
   "outputs": [],
   "source": [
    "def test_fit(dataSets, parameters=parameters, keyNames=keyNames):\n",
    "    bin_edges = np.logspace(0,3,20)\n",
    "    res_dict = {}\n",
    "    for index, df in enumerate(dataSets):\n",
    "        df = cleanData(df)\n",
    "        vals = df['c_f'].values.tolist()\n",
    "\n",
    "        mu = parameters[keyNames[index]][\"mu\"]\n",
    "        sigma = parameters[keyNames[index]][\"sigma\"]\n",
    "        scale = parameters[keyNames[index]][\"scale\"]\n",
    "        dist = stats.lognorm(loc=mu, s = sigma, scale=scale)\n",
    "        hist = plt.hist(vals, bins=bin_edges, density=True)\n",
    "        x = bin_edges\n",
    "        p = dist.pdf(x)\n",
    "        obs = np.array(hist[0])\n",
    "        exp = np.array(p)\n",
    "        \n",
    "        res = stats.ks_2samp(obs, exp)\n",
    "        print(res)\n",
    "\n",
    "        res_dict.update({keyNames[index]: {'pvalue': res[1]}})\n",
    "        res_dict[keyNames[index]].update({'statistic': res[0]})\n",
    "    \n",
    "    return res_dict\n",
    "    \n",
    "        "
   ]
  },
  {
   "cell_type": "code",
   "execution_count": 1039,
   "metadata": {},
   "outputs": [
    {
     "name": "stderr",
     "output_type": "stream",
     "text": [
      "/opt/homebrew/anaconda3/envs/exjobb/lib/python3.9/site-packages/pandas/core/arraylike.py:402: RuntimeWarning: divide by zero encountered in log\n",
      "  result = getattr(ufunc, method)(*inputs, **kwargs)\n"
     ]
    },
    {
     "name": "stdout",
     "output_type": "stream",
     "text": [
      "KstestResult(statistic=0.3157894736842105, pvalue=0.23542424272704296, statistic_location=0.0, statistic_sign=1)\n"
     ]
    },
    {
     "name": "stderr",
     "output_type": "stream",
     "text": [
      "/opt/homebrew/anaconda3/envs/exjobb/lib/python3.9/site-packages/pandas/core/arraylike.py:402: RuntimeWarning: divide by zero encountered in log\n",
      "  result = getattr(ufunc, method)(*inputs, **kwargs)\n",
      "/opt/homebrew/anaconda3/envs/exjobb/lib/python3.9/site-packages/pandas/core/arraylike.py:402: RuntimeWarning: divide by zero encountered in log\n",
      "  result = getattr(ufunc, method)(*inputs, **kwargs)\n"
     ]
    },
    {
     "name": "stdout",
     "output_type": "stream",
     "text": [
      "KstestResult(statistic=0.2631578947368421, pvalue=0.43375177374306845, statistic_location=0.0, statistic_sign=1)\n",
      "KstestResult(statistic=0.3157894736842105, pvalue=0.23542424272704296, statistic_location=0.0, statistic_sign=1)\n"
     ]
    },
    {
     "name": "stderr",
     "output_type": "stream",
     "text": [
      "/opt/homebrew/anaconda3/envs/exjobb/lib/python3.9/site-packages/pandas/core/arraylike.py:402: RuntimeWarning: divide by zero encountered in log\n",
      "  result = getattr(ufunc, method)(*inputs, **kwargs)\n"
     ]
    },
    {
     "name": "stdout",
     "output_type": "stream",
     "text": [
      "KstestResult(statistic=0.2631578947368421, pvalue=0.43375177374306845, statistic_location=0.0, statistic_sign=1)\n"
     ]
    },
    {
     "name": "stderr",
     "output_type": "stream",
     "text": [
      "/opt/homebrew/anaconda3/envs/exjobb/lib/python3.9/site-packages/pandas/core/arraylike.py:402: RuntimeWarning: divide by zero encountered in log\n",
      "  result = getattr(ufunc, method)(*inputs, **kwargs)\n",
      "/opt/homebrew/anaconda3/envs/exjobb/lib/python3.9/site-packages/pandas/core/arraylike.py:402: RuntimeWarning: divide by zero encountered in log\n",
      "  result = getattr(ufunc, method)(*inputs, **kwargs)\n",
      "/opt/homebrew/anaconda3/envs/exjobb/lib/python3.9/site-packages/pandas/core/arraylike.py:402: RuntimeWarning: divide by zero encountered in log\n",
      "  result = getattr(ufunc, method)(*inputs, **kwargs)\n"
     ]
    },
    {
     "name": "stdout",
     "output_type": "stream",
     "text": [
      "KstestResult(statistic=0.2631578947368421, pvalue=0.43375177374306845, statistic_location=0.0, statistic_sign=1)\n",
      "KstestResult(statistic=0.3684210526315789, pvalue=0.11347310564798593, statistic_location=0.0, statistic_sign=1)\n",
      "KstestResult(statistic=0.3157894736842105, pvalue=0.23542424272704296, statistic_location=0.0, statistic_sign=1)\n"
     ]
    },
    {
     "name": "stderr",
     "output_type": "stream",
     "text": [
      "/opt/homebrew/anaconda3/envs/exjobb/lib/python3.9/site-packages/pandas/core/arraylike.py:402: RuntimeWarning: divide by zero encountered in log\n",
      "  result = getattr(ufunc, method)(*inputs, **kwargs)\n"
     ]
    },
    {
     "name": "stdout",
     "output_type": "stream",
     "text": [
      "KstestResult(statistic=0.3157894736842105, pvalue=0.23542424272704296, statistic_location=0.0, statistic_sign=1)\n"
     ]
    },
    {
     "name": "stderr",
     "output_type": "stream",
     "text": [
      "/opt/homebrew/anaconda3/envs/exjobb/lib/python3.9/site-packages/pandas/core/arraylike.py:402: RuntimeWarning: divide by zero encountered in log\n",
      "  result = getattr(ufunc, method)(*inputs, **kwargs)\n",
      "/opt/homebrew/anaconda3/envs/exjobb/lib/python3.9/site-packages/pandas/core/arraylike.py:402: RuntimeWarning: divide by zero encountered in log\n",
      "  result = getattr(ufunc, method)(*inputs, **kwargs)\n"
     ]
    },
    {
     "name": "stdout",
     "output_type": "stream",
     "text": [
      "KstestResult(statistic=0.3157894736842105, pvalue=0.23542424272704296, statistic_location=0.0, statistic_sign=1)\n",
      "KstestResult(statistic=0.21052631578947367, pvalue=0.6960843302575662, statistic_location=0.0, statistic_sign=1)\n"
     ]
    },
    {
     "name": "stderr",
     "output_type": "stream",
     "text": [
      "/opt/homebrew/anaconda3/envs/exjobb/lib/python3.9/site-packages/pandas/core/arraylike.py:402: RuntimeWarning: divide by zero encountered in log\n",
      "  result = getattr(ufunc, method)(*inputs, **kwargs)\n",
      "/opt/homebrew/anaconda3/envs/exjobb/lib/python3.9/site-packages/pandas/core/arraylike.py:402: RuntimeWarning: divide by zero encountered in log\n",
      "  result = getattr(ufunc, method)(*inputs, **kwargs)\n"
     ]
    },
    {
     "name": "stdout",
     "output_type": "stream",
     "text": [
      "KstestResult(statistic=0.3157894736842105, pvalue=0.23542424272704296, statistic_location=0.0, statistic_sign=1)\n",
      "KstestResult(statistic=0.3157894736842105, pvalue=0.23542424272704296, statistic_location=0.0, statistic_sign=1)\n",
      "KstestResult(statistic=0.2631578947368421, pvalue=0.43375177374306845, statistic_location=0.0, statistic_sign=1)\n",
      "KstestResult(statistic=0.3157894736842105, pvalue=0.23542424272704296, statistic_location=0.0, statistic_sign=1)\n"
     ]
    },
    {
     "name": "stderr",
     "output_type": "stream",
     "text": [
      "/opt/homebrew/anaconda3/envs/exjobb/lib/python3.9/site-packages/pandas/core/arraylike.py:402: RuntimeWarning: divide by zero encountered in log\n",
      "  result = getattr(ufunc, method)(*inputs, **kwargs)\n",
      "/opt/homebrew/anaconda3/envs/exjobb/lib/python3.9/site-packages/pandas/core/arraylike.py:402: RuntimeWarning: divide by zero encountered in log\n",
      "  result = getattr(ufunc, method)(*inputs, **kwargs)\n"
     ]
    },
    {
     "data": {
      "text/plain": [
       "{'ai_ml': {'pvalue': 0.23542424272704296, 'statistic': 0.3157894736842105},\n",
       " 'col_sys': {'pvalue': 0.43375177374306845, 'statistic': 0.2631578947368421},\n",
       " 'com_net': {'pvalue': 0.23542424272704296, 'statistic': 0.3157894736842105},\n",
       " 'cont_alg': {'pvalue': 0.43375177374306845, 'statistic': 0.2631578947368421},\n",
       " 'cyb_sec': {'pvalue': 0.43375177374306845, 'statistic': 0.2631578947368421},\n",
       " 'edg_com': {'pvalue': 0.11347310564798593, 'statistic': 0.3684210526315789},\n",
       " 'ene_mgm': {'pvalue': 0.23542424272704296, 'statistic': 0.3157894736842105},\n",
       " 'eth_reg': {'pvalue': 0.23542424272704296, 'statistic': 0.3157894736842105},\n",
       " 'hum_man': {'pvalue': 0.23542424272704296, 'statistic': 0.3157894736842105},\n",
       " 'loc_map': {'pvalue': 0.6960843302575662, 'statistic': 0.21052631578947367},\n",
       " 'sen_fus': {'pvalue': 0.23542424272704296, 'statistic': 0.3157894736842105},\n",
       " 'sen_tec': {'pvalue': 0.23542424272704296, 'statistic': 0.3157894736842105},\n",
       " 'sim_mod': {'pvalue': 0.43375177374306845, 'statistic': 0.2631578947368421},\n",
       " 'tec_mob': {'pvalue': 0.23542424272704296, 'statistic': 0.3157894736842105}}"
      ]
     },
     "execution_count": 1039,
     "metadata": {},
     "output_type": "execute_result"
    }
   ],
   "source": [
    "fit_results = test_fit(dataSets)\n",
    "fit_results"
   ]
  },
  {
   "cell_type": "code",
   "execution_count": 1040,
   "metadata": {},
   "outputs": [
    {
     "name": "stdout",
     "output_type": "stream",
     "text": [
      "                                  mu  sigma    c_0  c_max  pvalue  statistic\n",
      "AI & Machine Learning           0.10   1.55  21.37   3149    0.24       0.32\n",
      "Collaborative systems           0.09   1.52  20.33   2811    0.43       0.26\n",
      "Communications & Networking     0.10   1.72  21.50   3149    0.24       0.32\n",
      "Control systems & Algorithms    0.10   1.53  16.05   2479    0.43       0.26\n",
      "Cybersecurity                   0.10   1.57  17.38   5145    0.43       0.26\n",
      "Edge Computing                  0.09   1.67  37.82   7208    0.11       0.37\n",
      "Energy Management               0.10   1.46  24.43   1868    0.24       0.32\n",
      "Ethics & Regulations            0.10   1.41  23.14   2479    0.24       0.32\n",
      "Human Machine Interaction       0.11   1.60  17.26   2093    0.24       0.32\n",
      "Localization & Mapping          0.09   1.57  25.15   7208    0.70       0.21\n",
      "Sensor Fusion                   0.10   1.55  21.54   2680    0.24       0.32\n",
      "Sensor Technologies             0.10   1.61  17.31   1868    0.24       0.32\n",
      "Simulation & Modeling           0.10   1.55  16.81   2479    0.43       0.26\n",
      "Technologies enabling mobility  0.09   1.58  18.44   1832    0.24       0.32\n"
     ]
    }
   ],
   "source": [
    "c_0_list = []\n",
    "c_max_list = []\n",
    "for index, df in enumerate(dataSets):\n",
    "    c_0_list.append(df['Cited by'].mean())\n",
    "    c_max_list.append(df['Cited by'].max())\n",
    "\n",
    "df = pd.DataFrame(parameters).T[['mu', 'sigma']]\n",
    "\n",
    "df['c_0'] = c_0_list\n",
    "df['c_max'] = c_max_list\n",
    "\n",
    "df2 = pd.DataFrame(fit_results).T[['pvalue', 'statistic']]\n",
    "df = df.join(df2)\n",
    "df = df.round(2)\n",
    "\n",
    "\n",
    "df.index = fullNames\n",
    "print(df)\n",
    "df.to_excel('output.xlsx')"
   ]
  },
  {
   "cell_type": "code",
   "execution_count": 1019,
   "metadata": {},
   "outputs": [
    {
     "data": {
      "text/plain": [
       "3149"
      ]
     },
     "execution_count": 1019,
     "metadata": {},
     "output_type": "execute_result"
    }
   ],
   "source": [
    "ai_ml['Cited by'].max()"
   ]
  },
  {
   "cell_type": "code",
   "execution_count": null,
   "metadata": {},
   "outputs": [],
   "source": []
  }
 ],
 "metadata": {
  "kernelspec": {
   "display_name": "exjobb",
   "language": "python",
   "name": "python3"
  },
  "language_info": {
   "codemirror_mode": {
    "name": "ipython",
    "version": 3
   },
   "file_extension": ".py",
   "mimetype": "text/x-python",
   "name": "python",
   "nbconvert_exporter": "python",
   "pygments_lexer": "ipython3",
   "version": "3.9.16"
  },
  "orig_nbformat": 4,
  "vscode": {
   "interpreter": {
    "hash": "99e71b850bfc91ef8b18fa19b99fd17b30f346ba89729599e9f04fc65691de2c"
   }
  }
 },
 "nbformat": 4,
 "nbformat_minor": 2
}
