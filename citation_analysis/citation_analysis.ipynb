{
 "cells": [
  {
   "cell_type": "code",
   "execution_count": 88,
   "metadata": {},
   "outputs": [],
   "source": [
    "import pandas as pd\n",
    "import numpy as np\n",
    "from matplotlib import pyplot as plt\n",
    "# import paramnormal\n",
    "# import seaborn as sns\n",
    "# from statsmodels import api\n",
    "from scipy import stats\n",
    "from scipy.optimize import minimize \n",
    "import json\n",
    "# import pprint\n"
   ]
  },
  {
   "cell_type": "code",
   "execution_count": 89,
   "metadata": {},
   "outputs": [],
   "source": [
    "# This function cleans the data and creates c_0, c_f, and log_c_f\n",
    "\n",
    "def cleanData(df):\n",
    "    # Remove unnecessary columns\n",
    "    df = df.drop('Link', axis=1)\n",
    "    df = df.dropna()\n",
    "    #df = df[df['Cited by'] >= 0]\n",
    "    c_0_list = []\n",
    "\n",
    "    # Calc c_0\n",
    "    c_0 = {year : df.loc[df['Year'] == year, 'Cited by'].median() for year in range(2001,2020)}\n",
    "\n",
    "\n",
    "    for index, row in df.iterrows():\n",
    "        c_0_list.append(c_0[row['Year']])\n",
    "        #df['c_0'][index] = c_0[row['Year']]\n",
    "    df['c_0'] = c_0_list\n",
    "    # Calc c_f\n",
    "    # df[\"c_0\"] = df[\"Cited by\"].median()\n",
    "    df['c_f'] = df['Cited by'] / df['c_0']\n",
    "    df['c_f'].astype(np.float64)\n",
    "    \n",
    "    df['log_c_f'] = np.log(df['c_f'])\n",
    "    \n",
    "    lower = .1\n",
    "    upper  = 10\n",
    "    df = df[df['c_f'] >= lower]\n",
    "    df = df[df['c_f'] <= upper]\n",
    "\n",
    "    return df\n"
   ]
  },
  {
   "cell_type": "code",
   "execution_count": 90,
   "metadata": {},
   "outputs": [],
   "source": [
    "# Load data sets\n",
    "\n",
    "ai_ml = pd.read_csv('AI_ML.csv')\n",
    "col_sys = pd.read_csv('Swarming_MultiAgent.csv')\n",
    "com_net = pd.read_csv('Communications_Networking.csv')\n",
    "cont_alg = pd.read_csv('ControlSystems_Algorithms.csv')\n",
    "cyb_sec = pd.read_csv('CyberSecurity.csv')\n",
    "edg_com = pd.read_csv('EdgeComputing.csv')\n",
    "ene_mgm = pd.read_csv('EnergyManagement.csv')\n",
    "eth_reg = pd.read_csv('EthicsRegulations.csv')\n",
    "hum_man = pd.read_csv('HumanMachineInteraction.csv')\n",
    "loc_map = pd.read_csv('Localization_mapping.csv')\n",
    "sen_fus = pd.read_csv('sensor_fusion.csv')\n",
    "sen_tec = pd.read_csv('sensor_technology.csv')\n",
    "sim_mod = pd.read_csv('Simulation_Modeling.csv')\n",
    "tec_mob = pd.read_csv('Robotics.csv')\n",
    "\n",
    "\n",
    "dataSets = [ai_ml, col_sys, com_net, cont_alg, cyb_sec, edg_com, ene_mgm, eth_reg, hum_man, loc_map, sen_fus, sen_tec, sim_mod, tec_mob]\n",
    "keyNames = [\"ai_ml\", \"col_sys\", \"com_net\", \"cont_alg\", \"cyb_sec\", \"edg_com\", \"ene_mgm\", \"eth_reg\", \"hum_man\", \"loc_map\", \"sen_fus\", \"sen_tec\", \"sim_mod\", \"tec_mob\"]\n",
    "fullNames = [\"AI & Machine Learning\", \"Collaborative systems\", \"Communications & Networking\", \"Control systems & Algorithms\", \"Cybersecurity\", \"Edge Computing\", \"Energy Management\", \"Ethics & Regulations\", \"Human Machine Interaction\", \"Localization & Mapping\", \"Sensor Fusion\", \"Sensor Technologies\", \"Simulation & Modeling\", \"Technologies enabling mobility\"]\n"
   ]
  },
  {
   "cell_type": "code",
   "execution_count": null,
   "metadata": {},
   "outputs": [],
   "source": []
  },
  {
   "cell_type": "code",
   "execution_count": 91,
   "metadata": {},
   "outputs": [
    {
     "name": "stderr",
     "output_type": "stream",
     "text": [
      "c:\\Users\\IsakG\\projects\\exjobb\\exjobbvenv\\lib\\site-packages\\pandas\\core\\arraylike.py:396: RuntimeWarning: divide by zero encountered in log\n",
      "  result = getattr(ufunc, method)(*inputs, **kwargs)\n"
     ]
    },
    {
     "data": {
      "image/png": "[encoded data removed]",
      "text/plain": [
       "<Figure size 640x480 with 1 Axes>"
      ]
     },
     "metadata": {},
     "output_type": "display_data"
    },
    {
     "data": {
      "image/png": "[encoded data removed]",
      "text/plain": [
       "<Figure size 640x480 with 1 Axes>"
      ]
     },
     "metadata": {},
     "output_type": "display_data"
    }
   ],
   "source": [
    "n = 0\n",
    "name = fullNames[n]\n",
    "\n",
    "df = cleanData(dataSets[n])\n",
    "# print(df.head())\n",
    "plt.hist(df.c_f)#, title=name)\n",
    "plt.show()\n",
    "plt.hist(df.log_c_f)#, title = name)\n",
    "plt.show()"
   ]
  },
  {
   "cell_type": "code",
   "execution_count": 92,
   "metadata": {},
   "outputs": [],
   "source": [
    "def MLE(dataSets):    \n",
    "    dist = stats.norm\n",
    "    bounds = {\n",
    "        'loc': (0,1),\n",
    "        # 's': (0,2),\n",
    "        'scale': (0,2)\n",
    "    }\n",
    "    #bounds = [(0,2), (0,1), (0,5)]\n",
    "    parameterDict = {}\n",
    "    bins = 50\n",
    "\n",
    "    for index, df in enumerate(dataSets):\n",
    "        df = cleanData(df)\n",
    "        vals = df['log_c_f'].values.tolist()\n",
    "        #res = paramnormal.lognormal.fit(vals)\n",
    "        res = stats.fit(dist, vals, bounds=bounds, method='mle')\n",
    "        \n",
    "        # print(res)\n",
    "        \n",
    "        parameterDict.update({keyNames[index]: {'mu': res.params.loc}})\n",
    "        # parameterDict[keyNames[index]].update({'sigma': res.params.s})\n",
    "        parameterDict[keyNames[index]].update({'scale': res.params.scale})\n",
    "        \n",
    "    return parameterDict"
   ]
  },
  {
   "cell_type": "code",
   "execution_count": 93,
   "metadata": {},
   "outputs": [
    {
     "name": "stderr",
     "output_type": "stream",
     "text": [
      "c:\\Users\\IsakG\\projects\\exjobb\\exjobbvenv\\lib\\site-packages\\pandas\\core\\arraylike.py:396: RuntimeWarning: divide by zero encountered in log\n",
      "  result = getattr(ufunc, method)(*inputs, **kwargs)\n",
      "c:\\Users\\IsakG\\projects\\exjobb\\exjobbvenv\\lib\\site-packages\\pandas\\core\\arraylike.py:396: RuntimeWarning: divide by zero encountered in log\n",
      "  result = getattr(ufunc, method)(*inputs, **kwargs)\n",
      "c:\\Users\\IsakG\\projects\\exjobb\\exjobbvenv\\lib\\site-packages\\pandas\\core\\arraylike.py:396: RuntimeWarning: divide by zero encountered in log\n",
      "  result = getattr(ufunc, method)(*inputs, **kwargs)\n",
      "c:\\Users\\IsakG\\projects\\exjobb\\exjobbvenv\\lib\\site-packages\\pandas\\core\\arraylike.py:396: RuntimeWarning: divide by zero encountered in log\n",
      "  result = getattr(ufunc, method)(*inputs, **kwargs)\n",
      "c:\\Users\\IsakG\\projects\\exjobb\\exjobbvenv\\lib\\site-packages\\pandas\\core\\arraylike.py:396: RuntimeWarning: divide by zero encountered in log\n",
      "  result = getattr(ufunc, method)(*inputs, **kwargs)\n",
      "c:\\Users\\IsakG\\projects\\exjobb\\exjobbvenv\\lib\\site-packages\\scipy\\stats\\_distn_infrastructure.py:1636: RuntimeWarning: overflow encountered in divide\n",
      "  x = asarray((x-loc) / scale)\n",
      "c:\\Users\\IsakG\\projects\\exjobb\\exjobbvenv\\lib\\site-packages\\pandas\\core\\arraylike.py:396: RuntimeWarning: divide by zero encountered in log\n",
      "  result = getattr(ufunc, method)(*inputs, **kwargs)\n",
      "c:\\Users\\IsakG\\projects\\exjobb\\exjobbvenv\\lib\\site-packages\\scipy\\stats\\_distn_infrastructure.py:1636: RuntimeWarning: overflow encountered in divide\n",
      "  x = asarray((x-loc) / scale)\n",
      "c:\\Users\\IsakG\\projects\\exjobb\\exjobbvenv\\lib\\site-packages\\pandas\\core\\arraylike.py:396: RuntimeWarning: divide by zero encountered in log\n",
      "  result = getattr(ufunc, method)(*inputs, **kwargs)\n",
      "c:\\Users\\IsakG\\projects\\exjobb\\exjobbvenv\\lib\\site-packages\\pandas\\core\\arraylike.py:396: RuntimeWarning: divide by zero encountered in log\n",
      "  result = getattr(ufunc, method)(*inputs, **kwargs)\n",
      "c:\\Users\\IsakG\\projects\\exjobb\\exjobbvenv\\lib\\site-packages\\pandas\\core\\arraylike.py:396: RuntimeWarning: divide by zero encountered in log\n",
      "  result = getattr(ufunc, method)(*inputs, **kwargs)\n",
      "c:\\Users\\IsakG\\projects\\exjobb\\exjobbvenv\\lib\\site-packages\\pandas\\core\\arraylike.py:396: RuntimeWarning: divide by zero encountered in log\n",
      "  result = getattr(ufunc, method)(*inputs, **kwargs)\n",
      "c:\\Users\\IsakG\\projects\\exjobb\\exjobbvenv\\lib\\site-packages\\scipy\\stats\\_distn_infrastructure.py:1636: RuntimeWarning: overflow encountered in divide\n",
      "  x = asarray((x-loc) / scale)\n",
      "c:\\Users\\IsakG\\projects\\exjobb\\exjobbvenv\\lib\\site-packages\\pandas\\core\\arraylike.py:396: RuntimeWarning: divide by zero encountered in log\n",
      "  result = getattr(ufunc, method)(*inputs, **kwargs)\n",
      "c:\\Users\\IsakG\\projects\\exjobb\\exjobbvenv\\lib\\site-packages\\pandas\\core\\arraylike.py:396: RuntimeWarning: divide by zero encountered in log\n",
      "  result = getattr(ufunc, method)(*inputs, **kwargs)\n",
      "c:\\Users\\IsakG\\projects\\exjobb\\exjobbvenv\\lib\\site-packages\\scipy\\stats\\_distn_infrastructure.py:1636: RuntimeWarning: overflow encountered in divide\n",
      "  x = asarray((x-loc) / scale)\n",
      "c:\\Users\\IsakG\\projects\\exjobb\\exjobbvenv\\lib\\site-packages\\pandas\\core\\arraylike.py:396: RuntimeWarning: divide by zero encountered in log\n",
      "  result = getattr(ufunc, method)(*inputs, **kwargs)\n",
      "c:\\Users\\IsakG\\projects\\exjobb\\exjobbvenv\\lib\\site-packages\\scipy\\stats\\_distn_infrastructure.py:1636: RuntimeWarning: overflow encountered in divide\n",
      "  x = asarray((x-loc) / scale)\n",
      "c:\\Users\\IsakG\\projects\\exjobb\\exjobbvenv\\lib\\site-packages\\pandas\\core\\arraylike.py:396: RuntimeWarning: divide by zero encountered in log\n",
      "  result = getattr(ufunc, method)(*inputs, **kwargs)\n",
      "c:\\Users\\IsakG\\projects\\exjobb\\exjobbvenv\\lib\\site-packages\\scipy\\stats\\_distn_infrastructure.py:1636: RuntimeWarning: overflow encountered in divide\n",
      "  x = asarray((x-loc) / scale)\n"
     ]
    }
   ],
   "source": [
    "# Perform the estimation\n",
    "parameters = MLE(dataSets)\n"
   ]
  },
  {
   "cell_type": "code",
   "execution_count": 94,
   "metadata": {},
   "outputs": [
    {
     "data": {
      "text/plain": [
       "{'ai_ml': {'mu': 0.07779231669973294, 'scale': 1.1523904220623502},\n",
       " 'col_sys': {'mu': 0.09729801259795955, 'scale': 1.151391095151732},\n",
       " 'com_net': {'mu': 0.1254156870174036, 'scale': 1.110171345957691},\n",
       " 'cont_alg': {'mu': 0.17172044940965878, 'scale': 1.090597893539816},\n",
       " 'cyb_sec': {'mu': 0.12721393731695096, 'scale': 1.1107508950466323},\n",
       " 'edg_com': {'mu': 0.03711512705882669, 'scale': 1.15979109838116},\n",
       " 'ene_mgm': {'mu': 0.04729139943430603, 'scale': 1.1668472510814696},\n",
       " 'eth_reg': {'mu': 0.0927889591228131, 'scale': 1.1468527390954224},\n",
       " 'hum_man': {'mu': 0.1828964414388499, 'scale': 1.130132628758105},\n",
       " 'loc_map': {'mu': 0.025869831932956666, 'scale': 1.1630588548190055},\n",
       " 'sen_fus': {'mu': 0.07705810361064094, 'scale': 1.1568562133541522},\n",
       " 'sen_tec': {'mu': 0.18551936857063184, 'scale': 1.1116010891523274},\n",
       " 'sim_mod': {'mu': 0.19543357352495072, 'scale': 1.1346497143941703},\n",
       " 'tec_mob': {'mu': 0.15474854470447935, 'scale': 1.1273357487719493}}"
      ]
     },
     "execution_count": 94,
     "metadata": {},
     "output_type": "execute_result"
    }
   ],
   "source": [
    "parameters"
   ]
  },
  {
   "cell_type": "code",
   "execution_count": 95,
   "metadata": {},
   "outputs": [],
   "source": [
    "with open(\"distribution_params.json\", \"w\") as write_file:\n",
    "    json.dump(parameters, write_file, indent=4)"
   ]
  },
  {
   "cell_type": "code",
   "execution_count": 96,
   "metadata": {},
   "outputs": [],
   "source": [
    "csfont = {'fontname':'Georgia'}\n",
    "hfont = {'fontname':'Helvetica'}\n",
    "plt.rcParams[\"font.family\"] = \"serif\"\n",
    "plt.rcParams[\"font.serif\"] = [\"Times new roman\"]"
   ]
  },
  {
   "cell_type": "code",
   "execution_count": 99,
   "metadata": {},
   "outputs": [],
   "source": [
    "def chi_test(dataSets):\n",
    "\n",
    "    res_dict = {}\n",
    "\n",
    "    for index, df in enumerate(dataSets):\n",
    "        mu = parameters[keyNames[index]][\"mu\"]\n",
    "        # sigma = parameters[keyNames[index]][\"sigma\"]\n",
    "        scale = parameters[keyNames[index]][\"scale\"]\n",
    "        bin_edges = np.logspace(-1,2,20)\n",
    "        df = cleanData(df)\n",
    "        vals = df['c_f'].values.tolist()\n",
    "        hist = plt.hist(vals, density=True, bins=bin_edges)\n",
    "\n",
    "        dist = stats.norm(loc=mu, scale=scale)\n",
    "        hist = plt.hist(vals, bins=bin_edges, density=True)\n",
    "        x = bin_edges\n",
    "        p = dist.pdf(x[1:len(x)])\n",
    "        observed = np.array(hist[0])\n",
    "        expected = np.array(p)\n",
    "\n",
    "        epsilon = 1e-20\n",
    "        df = 1\n",
    "\n",
    "        if len(observed) == len(expected):\n",
    "            chi_squared_stat = (((observed - expected)**2) / (expected + epsilon)).sum()\n",
    "            crit = stats.chi2.ppf(q=0.95, df=df)\n",
    "            pvalue = 1 - stats.chi2.cdf(x = chi_squared_stat, df = df)\n",
    "\n",
    "            res_dict.update({keyNames[index]: {'chi_stat': chi_squared_stat, 'crit_value': crit, 'pvalue': pvalue}})\n",
    "        else:\n",
    "            print(\"obs and exp is not the same length\", len(observed), len(expected))\n",
    "\n",
    "        \n",
    "    return res_dict\n",
    "    "
   ]
  },
  {
   "cell_type": "code",
   "execution_count": 100,
   "metadata": {},
   "outputs": [
    {
     "name": "stderr",
     "output_type": "stream",
     "text": [
      "c:\\Users\\IsakG\\projects\\exjobb\\exjobbvenv\\lib\\site-packages\\pandas\\core\\arraylike.py:396: RuntimeWarning: divide by zero encountered in log\n",
      "  result = getattr(ufunc, method)(*inputs, **kwargs)\n",
      "c:\\Users\\IsakG\\projects\\exjobb\\exjobbvenv\\lib\\site-packages\\pandas\\core\\arraylike.py:396: RuntimeWarning: divide by zero encountered in log\n",
      "  result = getattr(ufunc, method)(*inputs, **kwargs)\n",
      "c:\\Users\\IsakG\\projects\\exjobb\\exjobbvenv\\lib\\site-packages\\pandas\\core\\arraylike.py:396: RuntimeWarning: divide by zero encountered in log\n",
      "  result = getattr(ufunc, method)(*inputs, **kwargs)\n",
      "c:\\Users\\IsakG\\projects\\exjobb\\exjobbvenv\\lib\\site-packages\\pandas\\core\\arraylike.py:396: RuntimeWarning: divide by zero encountered in log\n",
      "  result = getattr(ufunc, method)(*inputs, **kwargs)\n",
      "c:\\Users\\IsakG\\projects\\exjobb\\exjobbvenv\\lib\\site-packages\\pandas\\core\\arraylike.py:396: RuntimeWarning: divide by zero encountered in log\n",
      "  result = getattr(ufunc, method)(*inputs, **kwargs)\n",
      "c:\\Users\\IsakG\\projects\\exjobb\\exjobbvenv\\lib\\site-packages\\pandas\\core\\arraylike.py:396: RuntimeWarning: divide by zero encountered in log\n",
      "  result = getattr(ufunc, method)(*inputs, **kwargs)\n",
      "c:\\Users\\IsakG\\projects\\exjobb\\exjobbvenv\\lib\\site-packages\\pandas\\core\\arraylike.py:396: RuntimeWarning: divide by zero encountered in log\n",
      "  result = getattr(ufunc, method)(*inputs, **kwargs)\n",
      "c:\\Users\\IsakG\\projects\\exjobb\\exjobbvenv\\lib\\site-packages\\pandas\\core\\arraylike.py:396: RuntimeWarning: divide by zero encountered in log\n",
      "  result = getattr(ufunc, method)(*inputs, **kwargs)\n",
      "c:\\Users\\IsakG\\projects\\exjobb\\exjobbvenv\\lib\\site-packages\\pandas\\core\\arraylike.py:396: RuntimeWarning: divide by zero encountered in log\n",
      "  result = getattr(ufunc, method)(*inputs, **kwargs)\n",
      "c:\\Users\\IsakG\\projects\\exjobb\\exjobbvenv\\lib\\site-packages\\pandas\\core\\arraylike.py:396: RuntimeWarning: divide by zero encountered in log\n",
      "  result = getattr(ufunc, method)(*inputs, **kwargs)\n",
      "c:\\Users\\IsakG\\projects\\exjobb\\exjobbvenv\\lib\\site-packages\\pandas\\core\\arraylike.py:396: RuntimeWarning: divide by zero encountered in log\n",
      "  result = getattr(ufunc, method)(*inputs, **kwargs)\n",
      "c:\\Users\\IsakG\\projects\\exjobb\\exjobbvenv\\lib\\site-packages\\pandas\\core\\arraylike.py:396: RuntimeWarning: divide by zero encountered in log\n",
      "  result = getattr(ufunc, method)(*inputs, **kwargs)\n",
      "c:\\Users\\IsakG\\projects\\exjobb\\exjobbvenv\\lib\\site-packages\\pandas\\core\\arraylike.py:396: RuntimeWarning: divide by zero encountered in log\n",
      "  result = getattr(ufunc, method)(*inputs, **kwargs)\n",
      "c:\\Users\\IsakG\\projects\\exjobb\\exjobbvenv\\lib\\site-packages\\pandas\\core\\arraylike.py:396: RuntimeWarning: divide by zero encountered in log\n",
      "  result = getattr(ufunc, method)(*inputs, **kwargs)\n"
     ]
    },
    {
     "data": {
      "text/html": [
       "<div>\n",
       "<style scoped>\n",
       "    .dataframe tbody tr th:only-of-type {\n",
       "        vertical-align: middle;\n",
       "    }\n",
       "\n",
       "    .dataframe tbody tr th {\n",
       "        vertical-align: top;\n",
       "    }\n",
       "\n",
       "    .dataframe thead th {\n",
       "        text-align: right;\n",
       "    }\n",
       "</style>\n",
       "<table border=\"1\" class=\"dataframe\">\n",
       "  <thead>\n",
       "    <tr style=\"text-align: right;\">\n",
       "      <th></th>\n",
       "      <th>chi_stat</th>\n",
       "      <th>crit_value</th>\n",
       "      <th>pvalue</th>\n",
       "    </tr>\n",
       "  </thead>\n",
       "  <tbody>\n",
       "    <tr>\n",
       "      <th>ai_ml</th>\n",
       "      <td>6.569001e+15</td>\n",
       "      <td>3.84</td>\n",
       "      <td>0.0</td>\n",
       "    </tr>\n",
       "    <tr>\n",
       "      <th>col_sys</th>\n",
       "      <td>8.028803e+15</td>\n",
       "      <td>3.84</td>\n",
       "      <td>0.0</td>\n",
       "    </tr>\n",
       "    <tr>\n",
       "      <th>com_net</th>\n",
       "      <td>8.701634e+15</td>\n",
       "      <td>3.84</td>\n",
       "      <td>0.0</td>\n",
       "    </tr>\n",
       "    <tr>\n",
       "      <th>cont_alg</th>\n",
       "      <td>8.935571e+15</td>\n",
       "      <td>3.84</td>\n",
       "      <td>0.0</td>\n",
       "    </tr>\n",
       "    <tr>\n",
       "      <th>cyb_sec</th>\n",
       "      <td>6.863321e+15</td>\n",
       "      <td>3.84</td>\n",
       "      <td>0.0</td>\n",
       "    </tr>\n",
       "    <tr>\n",
       "      <th>edg_com</th>\n",
       "      <td>4.140911e+15</td>\n",
       "      <td>3.84</td>\n",
       "      <td>0.0</td>\n",
       "    </tr>\n",
       "    <tr>\n",
       "      <th>ene_mgm</th>\n",
       "      <td>4.269934e+15</td>\n",
       "      <td>3.84</td>\n",
       "      <td>0.0</td>\n",
       "    </tr>\n",
       "    <tr>\n",
       "      <th>eth_reg</th>\n",
       "      <td>4.476495e+15</td>\n",
       "      <td>3.84</td>\n",
       "      <td>0.0</td>\n",
       "    </tr>\n",
       "    <tr>\n",
       "      <th>hum_man</th>\n",
       "      <td>8.019792e+15</td>\n",
       "      <td>3.84</td>\n",
       "      <td>0.0</td>\n",
       "    </tr>\n",
       "    <tr>\n",
       "      <th>loc_map</th>\n",
       "      <td>5.974096e+15</td>\n",
       "      <td>3.84</td>\n",
       "      <td>0.0</td>\n",
       "    </tr>\n",
       "    <tr>\n",
       "      <th>sen_fus</th>\n",
       "      <td>7.102122e+15</td>\n",
       "      <td>3.84</td>\n",
       "      <td>0.0</td>\n",
       "    </tr>\n",
       "    <tr>\n",
       "      <th>sen_tec</th>\n",
       "      <td>8.353839e+15</td>\n",
       "      <td>3.84</td>\n",
       "      <td>0.0</td>\n",
       "    </tr>\n",
       "    <tr>\n",
       "      <th>sim_mod</th>\n",
       "      <td>8.049429e+15</td>\n",
       "      <td>3.84</td>\n",
       "      <td>0.0</td>\n",
       "    </tr>\n",
       "    <tr>\n",
       "      <th>tec_mob</th>\n",
       "      <td>1.007210e+16</td>\n",
       "      <td>3.84</td>\n",
       "      <td>0.0</td>\n",
       "    </tr>\n",
       "  </tbody>\n",
       "</table>\n",
       "</div>"
      ],
      "text/plain": [
       "              chi_stat  crit_value  pvalue\n",
       "ai_ml     6.569001e+15        3.84     0.0\n",
       "col_sys   8.028803e+15        3.84     0.0\n",
       "com_net   8.701634e+15        3.84     0.0\n",
       "cont_alg  8.935571e+15        3.84     0.0\n",
       "cyb_sec   6.863321e+15        3.84     0.0\n",
       "edg_com   4.140911e+15        3.84     0.0\n",
       "ene_mgm   4.269934e+15        3.84     0.0\n",
       "eth_reg   4.476495e+15        3.84     0.0\n",
       "hum_man   8.019792e+15        3.84     0.0\n",
       "loc_map   5.974096e+15        3.84     0.0\n",
       "sen_fus   7.102122e+15        3.84     0.0\n",
       "sen_tec   8.353839e+15        3.84     0.0\n",
       "sim_mod   8.049429e+15        3.84     0.0\n",
       "tec_mob   1.007210e+16        3.84     0.0"
      ]
     },
     "execution_count": 100,
     "metadata": {},
     "output_type": "execute_result"
    },
    {
     "data": {
      "image/png": "[encoded data removed]",
      "text/plain": [
       "<Figure size 640x480 with 1 Axes>"
      ]
     },
     "metadata": {},
     "output_type": "display_data"
    }
   ],
   "source": [
    "chi_results = chi_test(dataSets)\n",
    "chi_df = pd.DataFrame(chi_results).T.round(2)\n",
    "chi_df\n",
    "\n"
   ]
  },
  {
   "cell_type": "code",
   "execution_count": null,
   "metadata": {},
   "outputs": [],
   "source": [
    "def plot_hist2(dataSets, parameters=parameters, keyNames=keyNames):\n",
    "    dist = stats.lognorm\n",
    "    bounds = {\n",
    "        'loc': (0,1),\n",
    "        's': (0,2),\n",
    "        'scale': (0,2)\n",
    "    }\n",
    "\n",
    "    bin_edges = np.logspace(-1,2,20)\n",
    "\n",
    "    fig, axs = plt.subplots(5, 3, figsize=(10,12))\n",
    "    axs = axs.ravel()\n",
    "\n",
    "    for index, df in enumerate(dataSets):\n",
    "        df = cleanData(df)\n",
    "        vals = df['c_f'].values.tolist()\n",
    "        \n",
    "        axs[index].hist(vals, bins=bin_edges, density=True, color='dimgray')\n",
    "        \n",
    "        mu = parameters[keyNames[index]]['mu']\n",
    "        sigma = parameters[keyNames[index]]['sigma'] \n",
    "        scale = parameters[keyNames[index]]['scale'] \n",
    "\n",
    "        dist = stats.lognorm(loc=mu, s = sigma, scale=scale)\n",
    "        p = dist.pdf(np.logspace(-0.95,2,20))\n",
    "       \n",
    "        axs[index].plot(bin_edges, p, color='gold')\n",
    "        axs[index].set_xscale('log')\n",
    "        axs[index].set_yscale('log')\n",
    "        axs[index].set_title(fullNames[index])\n",
    "        axs[index].set_xlabel(\"$c_f$\", math_fontfamily='cm')\n",
    "\n",
    "        # only set ylabel for subplots on the left\n",
    "        if index % 3 == 0:\n",
    "            axs[index].set_ylabel(\"$f$\", math_fontfamily='cm')\n",
    "        else:\n",
    "            axs[index].set_ylabel('') # set an empty string to remove ylabel for subplots on the right\n",
    "\n",
    "    plt.tight_layout()\n",
    "    plt.savefig('researchprogress_dists_hist.pdf', format='pdf')  \n",
    "    plt.show()\n"
   ]
  },
  {
   "cell_type": "code",
   "execution_count": null,
   "metadata": {},
   "outputs": [],
   "source": [
    "def plot_hist2(dataSets, parameters=parameters, keyNames=keyNames):\n",
    "    dist = stats.lognorm\n",
    "    bounds = {\n",
    "        'loc': (0,1),\n",
    "        's': (0,2),\n",
    "        'scale': (0,2)\n",
    "    }\n",
    "\n",
    "    bin_edges = np.logspace(-1,2,20)\n",
    "\n",
    "    fig, axs = plt.subplots(5, 3, figsize=(9/1.25,12/1.25))\n",
    "    axs = axs.ravel()\n",
    "\n",
    "    for index, df in enumerate(dataSets):\n",
    "        df = cleanData(df)\n",
    "        vals = df['c_f'].values.tolist()\n",
    "        \n",
    "        axs[index].hist(vals, bins=bin_edges, density=True, color='dimgray')\n",
    "        \n",
    "        mu = parameters[keyNames[index]]['mu']\n",
    "        sigma = parameters[keyNames[index]]['sigma'] \n",
    "        scale = parameters[keyNames[index]]['scale'] \n",
    "\n",
    "        dist = stats.lognorm(loc=mu, s = sigma, scale=scale)\n",
    "        p = dist.pdf(np.logspace(-0.95,2,20))\n",
    "       \n",
    "        axs[index].plot(bin_edges, p, color='gold')\n",
    "        axs[index].set_xscale('log')\n",
    "        axs[index].set_yscale('log')\n",
    "        axs[index].set_title(fullNames[index])\n",
    "        axs[index].set_xlabel(\"$c_f$\", math_fontfamily='cm')\n",
    "\n",
    "        # only set ylabel for subplots on the left\n",
    "        if index % 3 == 0:\n",
    "            axs[index].set_ylabel(\"$f$\", math_fontfamily='cm')\n",
    "        else:\n",
    "            axs[index].set_ylabel('') # set an empty string to remove ylabel for subplots on the right\n",
    "\n",
    "    plt.tight_layout()\n",
    "    plt.savefig('researchprogress_dists_hist.pdf', format='pdf')  \n",
    "    plt.show()\n"
   ]
  },
  {
   "cell_type": "code",
   "execution_count": null,
   "metadata": {},
   "outputs": [],
   "source": [
    "plot_hist2(dataSets, parameters)\n",
    "plt.savefig('researchprogress_dists.pdf')  \n"
   ]
  },
  {
   "cell_type": "code",
   "execution_count": null,
   "metadata": {},
   "outputs": [],
   "source": [
    "\n",
    "\n",
    "def plot_all_pdfs(dataSets, parameters=parameters, keyNames=keyNames):\n",
    "    bin_edges = np.logspace(0,2,20)\n",
    "    bin_edges2 = np.logspace(-0.1,2.1,20)\n",
    "\n",
    "    fig, ax = plt.subplots()\n",
    "\n",
    "    markers = ['o', 's', '^', 'v', '*', 'x', 'D', 'p', 'h', '+', '>', '<', 'd', '|']\n",
    "\n",
    "    mu_list = []\n",
    "    sigma_list = []\n",
    "    scale_list = []\n",
    "\n",
    "    for index, df in enumerate(dataSets):\n",
    "        mu = parameters[keyNames[index]]['mu']\n",
    "        sigma = parameters[keyNames[index]]['sigma']\n",
    "        scale = parameters[keyNames[index]]['scale']\n",
    "\n",
    "        mu_list.append(mu)\n",
    "        sigma_list.append(sigma)\n",
    "        scale_list.append(scale)\n",
    "\n",
    "        dist = stats.lognorm(loc=mu, s=sigma, scale=scale)\n",
    "        p = dist.pdf(bin_edges)\n",
    "\n",
    "        marker = markers[index % len(markers)]\n",
    "        plt.plot(bin_edges, p, marker=marker)\n",
    "        plt.xscale('log')\n",
    "        plt.yscale('log')\n",
    "\n",
    "    dist = stats.lognorm(loc=np.average(mu_list), s=np.average(sigma_list), scale=np.average(scale_list))\n",
    "    p = dist.pdf(bin_edges2)\n",
    "    # Add a legend for the dashed line\n",
    "    mu_dash = np.average(mu_list)\n",
    "    sigma_dash = np.average(sigma_list)\n",
    "    legend_text = f'$\\mu=${mu_dash.round(2)}, \\n$\\sigma=${sigma_dash.round(2)}'\n",
    "    #legend1 = plt.legend([legend_text], loc='upper right')\n",
    "    plt.plot(bin_edges2, p, linestyle='dashed', color='black')\n",
    "\n",
    "    ax.legend(fullNames, bbox_to_anchor=(1.05, 1), loc='upper left')\n",
    "    plt.savefig('researchprogress_dists_lines.pdf', format='pdf', bbox_inches=\"tight\")  \n",
    "    plt.show()\n"
   ]
  },
  {
   "cell_type": "code",
   "execution_count": null,
   "metadata": {},
   "outputs": [],
   "source": [
    "import matplotlib.pyplot as plt\n",
    "import numpy as np\n",
    "from scipy import stats\n",
    "\n",
    "def plot_all_pdfs(dataSets, parameters=parameters, keyNames=keyNames):\n",
    "    bin_edges = np.logspace(0,2,20)\n",
    "    bin_edges2 = np.logspace(-0.1,2.1,20)\n",
    "\n",
    "    fig, ax = plt.subplots()\n",
    "\n",
    "    markers = ['o', 's', '^', 'v', '*', 'x', 'D', 'p', 'h', '+', '>', '<', 'd', '|']\n",
    "\n",
    "    mu_list = []\n",
    "    sigma_list = []\n",
    "    scale_list = []\n",
    "\n",
    "    for index, df in enumerate(dataSets):\n",
    "        mu = parameters[keyNames[index]]['mu']\n",
    "        sigma = parameters[keyNames[index]]['sigma']\n",
    "        scale = parameters[keyNames[index]]['scale']\n",
    "\n",
    "        mu_list.append(mu)\n",
    "        sigma_list.append(sigma)\n",
    "        scale_list.append(scale)\n",
    "\n",
    "        dist = stats.lognorm(loc=mu, s=sigma, scale=scale)\n",
    "        p = dist.pdf(bin_edges)\n",
    "\n",
    "        marker = markers[index % len(markers)]\n",
    "        plt.plot(bin_edges, p, marker=marker)\n",
    "        plt.xscale('log')\n",
    "        plt.yscale('log')\n",
    "\n",
    "    dist = stats.lognorm(loc=np.average(mu_list), s=np.average(sigma_list), scale=np.average(scale_list))\n",
    "    p = dist.pdf(bin_edges2)\n",
    "    plt.plot(bin_edges2, p, linestyle='dashed', color='black')\n",
    "\n",
    "    # Add a legend for the dashed line\n",
    "    mu_dash = np.average(mu_list)\n",
    "    sigma_dash = np.average(sigma_list)\n",
    "    legend_text = f'Dashed line: \\n $\\mu=${mu_dash.round(2)}  \\n$\\sigma=${sigma_dash.round(2)}'\n",
    "    ax.annotate(legend_text, xy=(0.9, 0.9), xycoords='axes fraction', ha='right', va='top', math_fontfamily='cm')\n",
    "    \n",
    "\n",
    "    ax.legend(fullNames, bbox_to_anchor=(1.05, 1), loc='upper left')\n",
    "\n",
    "    plt.savefig('researchprogress_dists_lines.pdf', format='pdf', bbox_inches=\"tight\")  \n",
    "    plt.show()\n"
   ]
  },
  {
   "cell_type": "code",
   "execution_count": null,
   "metadata": {},
   "outputs": [],
   "source": [
    "plot_all_pdfs(dataSets, parameters)"
   ]
  },
  {
   "cell_type": "code",
   "execution_count": 101,
   "metadata": {},
   "outputs": [],
   "source": [
    "def test_fit_ks(dataSets, parameters=parameters, keyNames=keyNames):\n",
    "    bin_edges = np.logspace(0,3,20)\n",
    "    res_dict = {}\n",
    "    for index, df in enumerate(dataSets):\n",
    "        df = cleanData(df)\n",
    "        vals = df['c_f'].values.tolist()\n",
    "\n",
    "        mu = parameters[keyNames[index]][\"mu\"]\n",
    "        sigma = parameters[keyNames[index]][\"sigma\"]\n",
    "        scale = parameters[keyNames[index]][\"scale\"]\n",
    "        dist = stats.lognorm(loc=mu, s = sigma, scale=scale)\n",
    "        hist = plt.hist(vals, bins=bin_edges, density=True)\n",
    "        x = bin_edges\n",
    "        p = dist.pdf(x)\n",
    "        obs = np.array(hist[0])\n",
    "        exp = np.array(p)\n",
    "\n",
    "        print(len(obs), len(exp))\n",
    "        \n",
    "        # Kolmogorov-Smirnov test\n",
    "        res = stats.ks_2samp(obs, exp)\n",
    "        #res = stats.ks_1samp(obs, stats.lognorm.cdf(np.logspace(-1,2,20), s=sigma))\n",
    "\n",
    "        res_dict.update({keyNames[index]: {'pvalue': res[1]}})\n",
    "        res_dict[keyNames[index]].update({'statistic': res[0]})\n",
    "\n",
    "        print(res)\n",
    "    \n",
    "    return res_dict\n",
    "\n",
    "    \n",
    "        "
   ]
  },
  {
   "cell_type": "code",
   "execution_count": 102,
   "metadata": {},
   "outputs": [
    {
     "name": "stderr",
     "output_type": "stream",
     "text": [
      "c:\\Users\\IsakG\\projects\\exjobb\\exjobbvenv\\lib\\site-packages\\pandas\\core\\arraylike.py:396: RuntimeWarning: divide by zero encountered in log\n",
      "  result = getattr(ufunc, method)(*inputs, **kwargs)\n"
     ]
    },
    {
     "name": "stdout",
     "output_type": "stream",
     "text": [
      "19 20\n",
      "KstestResult(statistic=0.18157894736842106, pvalue=0.8247622484020416, statistic_location=0.0, statistic_sign=1)\n"
     ]
    },
    {
     "name": "stderr",
     "output_type": "stream",
     "text": [
      "c:\\Users\\IsakG\\projects\\exjobb\\exjobbvenv\\lib\\site-packages\\pandas\\core\\arraylike.py:396: RuntimeWarning: divide by zero encountered in log\n",
      "  result = getattr(ufunc, method)(*inputs, **kwargs)\n"
     ]
    },
    {
     "name": "stdout",
     "output_type": "stream",
     "text": [
      "19 20\n",
      "KstestResult(statistic=0.18157894736842106, pvalue=0.8247622484020416, statistic_location=0.0, statistic_sign=1)\n"
     ]
    },
    {
     "name": "stderr",
     "output_type": "stream",
     "text": [
      "c:\\Users\\IsakG\\projects\\exjobb\\exjobbvenv\\lib\\site-packages\\pandas\\core\\arraylike.py:396: RuntimeWarning: divide by zero encountered in log\n",
      "  result = getattr(ufunc, method)(*inputs, **kwargs)\n"
     ]
    },
    {
     "name": "stdout",
     "output_type": "stream",
     "text": [
      "19 20\n",
      "KstestResult(statistic=0.18157894736842106, pvalue=0.8247622484020416, statistic_location=0.0, statistic_sign=1)\n"
     ]
    },
    {
     "name": "stderr",
     "output_type": "stream",
     "text": [
      "c:\\Users\\IsakG\\projects\\exjobb\\exjobbvenv\\lib\\site-packages\\pandas\\core\\arraylike.py:396: RuntimeWarning: divide by zero encountered in log\n",
      "  result = getattr(ufunc, method)(*inputs, **kwargs)\n"
     ]
    },
    {
     "name": "stdout",
     "output_type": "stream",
     "text": [
      "19 20\n",
      "KstestResult(statistic=0.18157894736842106, pvalue=0.8247622484020416, statistic_location=0.0, statistic_sign=1)\n"
     ]
    },
    {
     "name": "stderr",
     "output_type": "stream",
     "text": [
      "c:\\Users\\IsakG\\projects\\exjobb\\exjobbvenv\\lib\\site-packages\\pandas\\core\\arraylike.py:396: RuntimeWarning: divide by zero encountered in log\n",
      "  result = getattr(ufunc, method)(*inputs, **kwargs)\n"
     ]
    },
    {
     "name": "stdout",
     "output_type": "stream",
     "text": [
      "19 20\n",
      "KstestResult(statistic=0.18157894736842106, pvalue=0.8247622484020416, statistic_location=0.0, statistic_sign=1)\n",
      "19 20\n",
      "KstestResult(statistic=0.18157894736842106, pvalue=0.8247622484020416, statistic_location=0.0, statistic_sign=1)\n"
     ]
    },
    {
     "name": "stderr",
     "output_type": "stream",
     "text": [
      "c:\\Users\\IsakG\\projects\\exjobb\\exjobbvenv\\lib\\site-packages\\pandas\\core\\arraylike.py:396: RuntimeWarning: divide by zero encountered in log\n",
      "  result = getattr(ufunc, method)(*inputs, **kwargs)\n",
      "c:\\Users\\IsakG\\projects\\exjobb\\exjobbvenv\\lib\\site-packages\\pandas\\core\\arraylike.py:396: RuntimeWarning: divide by zero encountered in log\n",
      "  result = getattr(ufunc, method)(*inputs, **kwargs)\n"
     ]
    },
    {
     "name": "stdout",
     "output_type": "stream",
     "text": [
      "19 20\n",
      "KstestResult(statistic=0.18157894736842106, pvalue=0.8247622484020416, statistic_location=0.0, statistic_sign=1)\n"
     ]
    },
    {
     "name": "stderr",
     "output_type": "stream",
     "text": [
      "c:\\Users\\IsakG\\projects\\exjobb\\exjobbvenv\\lib\\site-packages\\pandas\\core\\arraylike.py:396: RuntimeWarning: divide by zero encountered in log\n",
      "  result = getattr(ufunc, method)(*inputs, **kwargs)\n"
     ]
    },
    {
     "name": "stdout",
     "output_type": "stream",
     "text": [
      "19 20\n",
      "KstestResult(statistic=0.18157894736842106, pvalue=0.8247622484020416, statistic_location=0.0, statistic_sign=1)\n"
     ]
    },
    {
     "name": "stderr",
     "output_type": "stream",
     "text": [
      "c:\\Users\\IsakG\\projects\\exjobb\\exjobbvenv\\lib\\site-packages\\pandas\\core\\arraylike.py:396: RuntimeWarning: divide by zero encountered in log\n",
      "  result = getattr(ufunc, method)(*inputs, **kwargs)\n"
     ]
    },
    {
     "name": "stdout",
     "output_type": "stream",
     "text": [
      "19 20\n",
      "KstestResult(statistic=0.18157894736842106, pvalue=0.8247622484020416, statistic_location=0.0, statistic_sign=1)\n"
     ]
    },
    {
     "name": "stderr",
     "output_type": "stream",
     "text": [
      "c:\\Users\\IsakG\\projects\\exjobb\\exjobbvenv\\lib\\site-packages\\pandas\\core\\arraylike.py:396: RuntimeWarning: divide by zero encountered in log\n",
      "  result = getattr(ufunc, method)(*inputs, **kwargs)\n"
     ]
    },
    {
     "name": "stdout",
     "output_type": "stream",
     "text": [
      "19 20\n",
      "KstestResult(statistic=0.18157894736842106, pvalue=0.8247622484020416, statistic_location=0.0, statistic_sign=1)\n"
     ]
    },
    {
     "name": "stderr",
     "output_type": "stream",
     "text": [
      "c:\\Users\\IsakG\\projects\\exjobb\\exjobbvenv\\lib\\site-packages\\pandas\\core\\arraylike.py:396: RuntimeWarning: divide by zero encountered in log\n",
      "  result = getattr(ufunc, method)(*inputs, **kwargs)\n"
     ]
    },
    {
     "name": "stdout",
     "output_type": "stream",
     "text": [
      "19 20\n",
      "KstestResult(statistic=0.18157894736842106, pvalue=0.8247622484020416, statistic_location=0.0, statistic_sign=1)\n"
     ]
    },
    {
     "name": "stderr",
     "output_type": "stream",
     "text": [
      "c:\\Users\\IsakG\\projects\\exjobb\\exjobbvenv\\lib\\site-packages\\pandas\\core\\arraylike.py:396: RuntimeWarning: divide by zero encountered in log\n",
      "  result = getattr(ufunc, method)(*inputs, **kwargs)\n"
     ]
    },
    {
     "name": "stdout",
     "output_type": "stream",
     "text": [
      "19 20\n",
      "KstestResult(statistic=0.18157894736842106, pvalue=0.8247622484020416, statistic_location=0.0, statistic_sign=1)\n"
     ]
    },
    {
     "name": "stderr",
     "output_type": "stream",
     "text": [
      "c:\\Users\\IsakG\\projects\\exjobb\\exjobbvenv\\lib\\site-packages\\pandas\\core\\arraylike.py:396: RuntimeWarning: divide by zero encountered in log\n",
      "  result = getattr(ufunc, method)(*inputs, **kwargs)\n",
      "c:\\Users\\IsakG\\projects\\exjobb\\exjobbvenv\\lib\\site-packages\\pandas\\core\\arraylike.py:396: RuntimeWarning: divide by zero encountered in log\n",
      "  result = getattr(ufunc, method)(*inputs, **kwargs)\n"
     ]
    },
    {
     "name": "stdout",
     "output_type": "stream",
     "text": [
      "19 20\n",
      "KstestResult(statistic=0.18157894736842106, pvalue=0.8247622484020416, statistic_location=0.0, statistic_sign=1)\n",
      "19 20\n",
      "KstestResult(statistic=0.18157894736842106, pvalue=0.8247622484020416, statistic_location=0.0, statistic_sign=1)\n"
     ]
    },
    {
     "data": {
      "image/png": "[encoded data removed]",
      "text/plain": [
       "<Figure size 640x480 with 1 Axes>"
      ]
     },
     "metadata": {},
     "output_type": "display_data"
    },
    {
     "ename": "",
     "evalue": "",
     "output_type": "error",
     "traceback": [
      "\u001b[1;31mThe Kernel crashed while executing code in the the current cell or a previous cell. Please review the code in the cell(s) to identify a possible cause of the failure. Click <a href='https://aka.ms/vscodeJupyterKernelCrash'>here</a> for more info. View Jupyter <a href='command:jupyter.viewOutput'>log</a> for further details."
     ]
    }
   ],
   "source": [
    "fit_results = test_fit_ks(dataSets)\n"
   ]
  },
  {
   "cell_type": "code",
   "execution_count": null,
   "metadata": {},
   "outputs": [],
   "source": [
    "c_0_list = []\n",
    "c_max_list = []\n",
    "c_f_max_list = []\n",
    "for index, df in enumerate(dataSets):\n",
    "    df = cleanData(df)\n",
    "    c_0_list.append(df['Cited by'].mean())\n",
    "    c_max_list.append(df['Cited by'].max())\n",
    "    c_f_max_list.append(df['c_f'].max())\n",
    "\n",
    "df = pd.DataFrame(parameters).T[['mu', 'sigma']]\n",
    "\n",
    "df['c_0'] = c_0_list\n",
    "df['c_max'] = c_max_list\n",
    "df['c_f_max'] = c_f_max_list\n",
    "\n",
    "\n",
    "df2 = pd.DataFrame(fit_results).T[['pvalue']]\n",
    "df2 = df2.rename(columns={'pvalue': 'pvalue_ks'})\n",
    "df = df.join([df2, chi_df['pvalue']])\n",
    "df = df.rename(columns={'pvalue': 'pvalue_chi2'})\n",
    "df = df.round(2)\n",
    "\n",
    "\n",
    "df.index = fullNames\n",
    "print(df)\n",
    "df.to_excel('output.xlsx')"
   ]
  },
  {
   "cell_type": "code",
   "execution_count": null,
   "metadata": {},
   "outputs": [],
   "source": [
    "ai_ml['Cited by'].max()"
   ]
  },
  {
   "cell_type": "code",
   "execution_count": 1,
   "metadata": {},
   "outputs": [
    {
     "name": "stdout",
     "output_type": "stream",
     "text": [
      "kör\n",
      "kör\n",
      "kör\n",
      "kör\n",
      "kör\n",
      "kör\n",
      "kör\n",
      "kör\n",
      "kör\n",
      "kör\n",
      "kör\n",
      "kör\n",
      "kör\n",
      "kör\n",
      "kör\n",
      "kör\n",
      "kör\n",
      "kör\n",
      "kör\n",
      "kör\n",
      "kör\n",
      "kör\n",
      "kör\n",
      "kör\n",
      "kör\n",
      "kör\n",
      "kör\n",
      "kör\n",
      "kör\n",
      "kör\n"
     ]
    }
   ],
   "source": [
    "import time\n",
    "\n",
    "\n",
    "\n",
    "while True:\n",
    "    if input():\n",
    "        time.sleep(1)\n",
    "    else:\n",
    "        print(\"kör\")"
   ]
  }
 ],
 "metadata": {
  "kernelspec": {
   "display_name": "exjobb",
   "language": "python",
   "name": "python3"
  },
  "language_info": {
   "codemirror_mode": {
    "name": "ipython",
    "version": 3
   },
   "file_extension": ".py",
   "mimetype": "text/x-python",
   "name": "python",
   "nbconvert_exporter": "python",
   "pygments_lexer": "ipython3",
   "version": "3.10.11"
  },
  "orig_nbformat": 4,
  "vscode": {
   "interpreter": {
    "hash": "99e71b850bfc91ef8b18fa19b99fd17b30f346ba89729599e9f04fc65691de2c"
   }
  }
 },
 "nbformat": 4,
 "nbformat_minor": 2
}
