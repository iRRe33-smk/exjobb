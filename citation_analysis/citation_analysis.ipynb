{
 "cells": [
  {
   "cell_type": "code",
   "execution_count": null,
   "metadata": {},
   "outputs": [],
   "source": []
  },
  {
   "cell_type": "code",
   "execution_count": 67,
   "metadata": {},
   "outputs": [],
   "source": [
    "import pandas as pd\n",
    "import numpy as np\n",
    "from matplotlib import pyplot as plt\n",
    "import seaborn as sns\n",
    "from statsmodels import api\n",
    "from scipy import stats\n",
    "from scipy.optimize import minimize \n",
    "import json\n"
   ]
  },
  {
   "cell_type": "code",
   "execution_count": 45,
   "metadata": {},
   "outputs": [],
   "source": [
    "def cleanData(df):\n",
    "    # Remove unnecessary columns\n",
    "    df = df.drop('Link', axis=1)\n",
    "    df['c_0'] = 0\n",
    "\n",
    "\n",
    "    # Calc c_0      \n",
    "    c_0 = {\n",
    "        2010: df.loc[df['Year'] == 2010, 'Cited by'].mean(),\n",
    "        2011: df.loc[df['Year'] == 2011, 'Cited by'].mean(),\n",
    "        2012: df.loc[df['Year'] == 2012, 'Cited by'].mean(),\n",
    "        2013: df.loc[df['Year'] == 2013, 'Cited by'].mean(),\n",
    "        2014: df.loc[df['Year'] == 2014, 'Cited by'].mean(),\n",
    "        2015: df.loc[df['Year'] == 2015, 'Cited by'].mean()\n",
    "    }\n",
    "    for index, row in df.iterrows():\n",
    "        df['c_0'][index] = c_0[row['Year']]\n",
    "  \n",
    "    # Calc c_f\n",
    "    df['c_f'] = df['Cited by'] / df['c_0']\n",
    "\n",
    "    return df\n",
    "\n",
    "\n"
   ]
  },
  {
   "cell_type": "code",
   "execution_count": 16,
   "metadata": {},
   "outputs": [],
   "source": [
    "def log_normal_func(mu, sigma):\n",
    "    f = 1 / (sigma*mu*np.sqrt(2*np.pi)) * np.exp(-np.power((np.log(mu)-mu),2) / (2*np.power(sigma,2)))\n",
    "    return f"
   ]
  },
  {
   "cell_type": "code",
   "execution_count": 17,
   "metadata": {},
   "outputs": [],
   "source": [
    "def get_opti_fun(df):\n",
    "   # MLE function\n",
    "   def MLE_Norm(parameters):\n",
    "      # extract parameters\n",
    "      mu, sigma = parameters\n",
    "      # Calculate the log-likelihood for normal distribution\n",
    "      LL = np.sum(stats.norm.logpdf(df['c_f'], loc=mu, scale=sigma))\n",
    "      # Calculate the negative log-likelihood\n",
    "      neg_LL = -1*LL\n",
    "      return neg_LL\n",
    "   return MLE_Norm"
   ]
  },
  {
   "cell_type": "code",
   "execution_count": 28,
   "metadata": {},
   "outputs": [],
   "source": [
    "ai_ml = pd.read_csv('AI_ML.csv')\n",
    "com_net = pd.read_csv('Communications_Networking.csv')\n",
    "con_alg = pd.read_csv('ControlSystems_Algorithms.csv')\n",
    "edge_com = pd.read_csv('EdgeComputing.csv')\n",
    "loc_map = pd.read_csv('Localisation_Mapping.csv')\n",
    "rob = pd.read_csv('Robotics.csv')\n",
    "sen_fus = pd.read_csv('sensor_fusion.csv')\n",
    "sen_tec = pd.read_csv('sensor_technology.csv')\n",
    "sim_mod = pd.read_csv('Simulation_Modeling.csv')\n",
    "swarm_mult = pd.read_csv('Swarming_MultiAgent.csv')\n",
    "\n",
    "dataSets = [ai_ml, com_net, con_alg, edge_com, loc_map, rob, sen_fus, sen_tec, sim_mod, swarm_mult]"
   ]
  },
  {
   "cell_type": "code",
   "execution_count": 64,
   "metadata": {},
   "outputs": [],
   "source": [
    "def MLE_estimation(dataSets):\n",
    "\n",
    "    parameterDict = {}\n",
    "    key_names = [\"ai_ml\", \"com_net\", \"con_alg\", \"edge_com\", \"loc_map\", \"rob\", \"sen_fus\", \"sen_tec\", \"sim_mod\", \"swarm_mult\"]\n",
    "    initParams = [1,1]\n",
    "    \n",
    "    for index, df in enumerate(dataSets):\n",
    "        df = cleanData(df)\n",
    "\n",
    "        mle = minimize(get_opti_fun(df), initParams, method='Nelder-Mead')\n",
    "        mu = mle.x[0]\n",
    "        sigma = mle.x[1]\n",
    "        parameterDict.update({key_names[index]: {'mu': mu}})\n",
    "        parameterDict[key_names[index]].update({'sigma': sigma})\n",
    "\n",
    "    return parameterDict\n",
    "\n",
    "        "
   ]
  },
  {
   "cell_type": "code",
   "execution_count": 65,
   "metadata": {},
   "outputs": [
    {
     "name": "stderr",
     "output_type": "stream",
     "text": [
      "/var/folders/9r/w8p_5y0s0913xqcffg4y86sr0000gn/T/ipykernel_7681/984332791.py:17: SettingWithCopyWarning: \n",
      "A value is trying to be set on a copy of a slice from a DataFrame\n",
      "\n",
      "See the caveats in the documentation: https://pandas.pydata.org/pandas-docs/stable/user_guide/indexing.html#returning-a-view-versus-a-copy\n",
      "  df['c_0'][index] = c_0[row['Year']]\n",
      "/var/folders/9r/w8p_5y0s0913xqcffg4y86sr0000gn/T/ipykernel_7681/984332791.py:17: SettingWithCopyWarning: \n",
      "A value is trying to be set on a copy of a slice from a DataFrame\n",
      "\n",
      "See the caveats in the documentation: https://pandas.pydata.org/pandas-docs/stable/user_guide/indexing.html#returning-a-view-versus-a-copy\n",
      "  df['c_0'][index] = c_0[row['Year']]\n",
      "/var/folders/9r/w8p_5y0s0913xqcffg4y86sr0000gn/T/ipykernel_7681/984332791.py:17: SettingWithCopyWarning: \n",
      "A value is trying to be set on a copy of a slice from a DataFrame\n",
      "\n",
      "See the caveats in the documentation: https://pandas.pydata.org/pandas-docs/stable/user_guide/indexing.html#returning-a-view-versus-a-copy\n",
      "  df['c_0'][index] = c_0[row['Year']]\n",
      "/var/folders/9r/w8p_5y0s0913xqcffg4y86sr0000gn/T/ipykernel_7681/984332791.py:17: SettingWithCopyWarning: \n",
      "A value is trying to be set on a copy of a slice from a DataFrame\n",
      "\n",
      "See the caveats in the documentation: https://pandas.pydata.org/pandas-docs/stable/user_guide/indexing.html#returning-a-view-versus-a-copy\n",
      "  df['c_0'][index] = c_0[row['Year']]\n",
      "/var/folders/9r/w8p_5y0s0913xqcffg4y86sr0000gn/T/ipykernel_7681/984332791.py:17: SettingWithCopyWarning: \n",
      "A value is trying to be set on a copy of a slice from a DataFrame\n",
      "\n",
      "See the caveats in the documentation: https://pandas.pydata.org/pandas-docs/stable/user_guide/indexing.html#returning-a-view-versus-a-copy\n",
      "  df['c_0'][index] = c_0[row['Year']]\n",
      "/var/folders/9r/w8p_5y0s0913xqcffg4y86sr0000gn/T/ipykernel_7681/984332791.py:17: SettingWithCopyWarning: \n",
      "A value is trying to be set on a copy of a slice from a DataFrame\n",
      "\n",
      "See the caveats in the documentation: https://pandas.pydata.org/pandas-docs/stable/user_guide/indexing.html#returning-a-view-versus-a-copy\n",
      "  df['c_0'][index] = c_0[row['Year']]\n",
      "/var/folders/9r/w8p_5y0s0913xqcffg4y86sr0000gn/T/ipykernel_7681/984332791.py:17: SettingWithCopyWarning: \n",
      "A value is trying to be set on a copy of a slice from a DataFrame\n",
      "\n",
      "See the caveats in the documentation: https://pandas.pydata.org/pandas-docs/stable/user_guide/indexing.html#returning-a-view-versus-a-copy\n",
      "  df['c_0'][index] = c_0[row['Year']]\n",
      "/var/folders/9r/w8p_5y0s0913xqcffg4y86sr0000gn/T/ipykernel_7681/984332791.py:17: SettingWithCopyWarning: \n",
      "A value is trying to be set on a copy of a slice from a DataFrame\n",
      "\n",
      "See the caveats in the documentation: https://pandas.pydata.org/pandas-docs/stable/user_guide/indexing.html#returning-a-view-versus-a-copy\n",
      "  df['c_0'][index] = c_0[row['Year']]\n",
      "/var/folders/9r/w8p_5y0s0913xqcffg4y86sr0000gn/T/ipykernel_7681/984332791.py:17: SettingWithCopyWarning: \n",
      "A value is trying to be set on a copy of a slice from a DataFrame\n",
      "\n",
      "See the caveats in the documentation: https://pandas.pydata.org/pandas-docs/stable/user_guide/indexing.html#returning-a-view-versus-a-copy\n",
      "  df['c_0'][index] = c_0[row['Year']]\n",
      "/var/folders/9r/w8p_5y0s0913xqcffg4y86sr0000gn/T/ipykernel_7681/984332791.py:17: SettingWithCopyWarning: \n",
      "A value is trying to be set on a copy of a slice from a DataFrame\n",
      "\n",
      "See the caveats in the documentation: https://pandas.pydata.org/pandas-docs/stable/user_guide/indexing.html#returning-a-view-versus-a-copy\n",
      "  df['c_0'][index] = c_0[row['Year']]\n"
     ]
    }
   ],
   "source": [
    "parameters = MLE_estimation(dataSets)"
   ]
  },
  {
   "cell_type": "code",
   "execution_count": 72,
   "metadata": {},
   "outputs": [],
   "source": [
    "with open(\"distribution_params.json\", \"w\") as write_file:\n",
    "    json.dump(parameters, write_file, indent=4)"
   ]
  }
 ],
 "metadata": {
  "kernelspec": {
   "display_name": "exjobb",
   "language": "python",
   "name": "python3"
  },
  "language_info": {
   "codemirror_mode": {
    "name": "ipython",
    "version": 3
   },
   "file_extension": ".py",
   "mimetype": "text/x-python",
   "name": "python",
   "nbconvert_exporter": "python",
   "pygments_lexer": "ipython3",
   "version": "3.9.16"
  },
  "orig_nbformat": 4,
  "vscode": {
   "interpreter": {
    "hash": "99e71b850bfc91ef8b18fa19b99fd17b30f346ba89729599e9f04fc65691de2c"
   }
  }
 },
 "nbformat": 4,
 "nbformat_minor": 2
}
